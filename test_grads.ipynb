{
 "cells": [
  {
   "cell_type": "code",
   "execution_count": 1,
   "metadata": {},
   "outputs": [],
   "source": [
    "import torch\n",
    "\n",
    "from zeroshotrl.rl_agents.ppo.ppo_end_to_end_relu_stack_align import Agent, FeatureExtractor, Policy"
   ]
  },
  {
   "cell_type": "code",
   "execution_count": 2,
   "metadata": {},
   "outputs": [],
   "source": [
    "# random values for the policy\n",
    "enc = FeatureExtractor(use_relative=False,\n",
    "        pretrained=False, anchors_alpha=0.99, anchors_alpha_min=0.01, anchors_alpha_max=0.999, device=\"cpu\")\n",
    "data = torch.randn(1, 4, 3, 84, 84)\n",
    "hid = enc(data)\n",
    "num_actions = 4\n",
    "pol = Policy(num_actions=num_actions, stack_n = 4)"
   ]
  },
  {
   "cell_type": "code",
   "execution_count": 3,
   "metadata": {},
   "outputs": [],
   "source": [
    "agent = Agent(enc, pol, translation=None, num_envs=1, num_stack=4)"
   ]
  },
  {
   "cell_type": "code",
   "execution_count": 4,
   "metadata": {},
   "outputs": [
    {
     "name": "stdout",
     "output_type": "stream",
     "text": [
      "Policy requires grad: True\n",
      "Feature extractor requires grad: True\n",
      "Agent requires grad: True\n",
      "Encoder is in training mode: True\n",
      "Policy is in training mode: True\n",
      "Agent is in training mode: True\n"
     ]
    }
   ],
   "source": [
    "# Check if any parameter in the model requires gradients\n",
    "def check_requires_grad(model):\n",
    "    return any(param.requires_grad for param in model.parameters())\n",
    "\n",
    "# Print whether the policy has requires_grad=True\n",
    "print(\"Policy requires grad:\", check_requires_grad(pol))\n",
    "\n",
    "# Print whether the feature extractor has requires_grad=True\n",
    "print(\"Feature extractor requires grad:\", check_requires_grad(enc))\n",
    "\n",
    "# Print whether the agent has requires_grad=True\n",
    "print(\"Agent requires grad:\", check_requires_grad(agent))\n",
    "\n",
    "# Print whether encoder is in training mode\n",
    "print(\"Encoder is in training mode:\", enc.training)\n",
    "\n",
    "# Print whether policy is in training mode\n",
    "print(\"Policy is in training mode:\", pol.training)\n",
    "\n",
    "# Print whether agent is in training mode\n",
    "print(\"Agent is in training mode:\", agent.training)"
   ]
  },
  {
   "cell_type": "code",
   "execution_count": 5,
   "metadata": {},
   "outputs": [
    {
     "name": "stdout",
     "output_type": "stream",
     "text": [
      "Policy requires grad: True\n",
      "Feature extractor requires grad: False\n",
      "Agent requires grad: True\n",
      "Encoder is in training mode: True\n",
      "Policy is in training mode: True\n",
      "Agent is in training mode: True\n"
     ]
    }
   ],
   "source": [
    "# set enc and pol to eval mode and not require gradients\n",
    "enc.train()\n",
    "pol.train()\n",
    "for param in enc.parameters():\n",
    "    param.requires_grad = False\n",
    "for param in pol.parameters():\n",
    "    param.requires_grad = True\n",
    "\n",
    "# Check if any parameter in the model requires gradients\n",
    "def check_requires_grad(model):\n",
    "    return any(param.requires_grad for param in model.parameters())\n",
    "\n",
    "# Print whether the policy has requires_grad=True\n",
    "print(\"Policy requires grad:\", check_requires_grad(pol))\n",
    "\n",
    "# Print whether the feature extractor has requires_grad=True\n",
    "print(\"Feature extractor requires grad:\", check_requires_grad(enc))\n",
    "\n",
    "# Print whether the agent has requires_grad=True\n",
    "print(\"Agent requires grad:\", check_requires_grad(agent))\n",
    "\n",
    "# Print whether encoder is in training mode\n",
    "print(\"Encoder is in training mode:\", enc.training)\n",
    "\n",
    "# Print whether policy is in training mode\n",
    "print(\"Policy is in training mode:\", pol.training)\n",
    "\n",
    "# Print whether agent is in training mode\n",
    "print(\"Agent is in training mode:\", agent.training)"
   ]
  },
  {
   "cell_type": "code",
   "execution_count": 10,
   "metadata": {},
   "outputs": [
    {
     "ename": "AttributeError",
     "evalue": "'Agent' object has no attribute 'eval_enc'",
     "output_type": "error",
     "traceback": [
      "\u001b[0;31m---------------------------------------------------------------------------\u001b[0m",
      "\u001b[0;31mAttributeError\u001b[0m                            Traceback (most recent call last)",
      "Cell \u001b[0;32mIn[10], line 13\u001b[0m\n\u001b[1;32m     10\u001b[0m agent_eval\u001b[38;5;241m.\u001b[39meval()\n\u001b[1;32m     12\u001b[0m \u001b[38;5;66;03m# Print whether the policy has requires_grad=True\u001b[39;00m\n\u001b[0;32m---> 13\u001b[0m \u001b[38;5;28mprint\u001b[39m(\u001b[38;5;124m\"\u001b[39m\u001b[38;5;124mPolicy requires grad:\u001b[39m\u001b[38;5;124m\"\u001b[39m, check_requires_grad(\u001b[43magent_eval\u001b[49m\u001b[38;5;241;43m.\u001b[39;49m\u001b[43meval_enc\u001b[49m))\n\u001b[1;32m     15\u001b[0m \u001b[38;5;66;03m# Print whether the feature extractor has requires_grad=True\u001b[39;00m\n\u001b[1;32m     16\u001b[0m \u001b[38;5;28mprint\u001b[39m(\u001b[38;5;124m\"\u001b[39m\u001b[38;5;124mFeature extractor requires grad:\u001b[39m\u001b[38;5;124m\"\u001b[39m, check_requires_grad(agent_eval\u001b[38;5;241m.\u001b[39meval_enc))\n",
      "File \u001b[0;32m~/projects/rl_relrepr_gymnasium/.venv/lib/python3.9/site-packages/torch/nn/modules/module.py:1614\u001b[0m, in \u001b[0;36mModule.__getattr__\u001b[0;34m(self, name)\u001b[0m\n\u001b[1;32m   1612\u001b[0m     \u001b[38;5;28;01mif\u001b[39;00m name \u001b[38;5;129;01min\u001b[39;00m modules:\n\u001b[1;32m   1613\u001b[0m         \u001b[38;5;28;01mreturn\u001b[39;00m modules[name]\n\u001b[0;32m-> 1614\u001b[0m \u001b[38;5;28;01mraise\u001b[39;00m \u001b[38;5;167;01mAttributeError\u001b[39;00m(\u001b[38;5;124m\"\u001b[39m\u001b[38;5;124m'\u001b[39m\u001b[38;5;132;01m{}\u001b[39;00m\u001b[38;5;124m'\u001b[39m\u001b[38;5;124m object has no attribute \u001b[39m\u001b[38;5;124m'\u001b[39m\u001b[38;5;132;01m{}\u001b[39;00m\u001b[38;5;124m'\u001b[39m\u001b[38;5;124m\"\u001b[39m\u001b[38;5;241m.\u001b[39mformat(\n\u001b[1;32m   1615\u001b[0m     \u001b[38;5;28mtype\u001b[39m(\u001b[38;5;28mself\u001b[39m)\u001b[38;5;241m.\u001b[39m\u001b[38;5;18m__name__\u001b[39m, name))\n",
      "\u001b[0;31mAttributeError\u001b[0m: 'Agent' object has no attribute 'eval_enc'"
     ]
    }
   ],
   "source": [
    "import copy\n",
    "\n",
    "# Assuming agent, encoder1, and policy2 are already instantiated\n",
    "\n",
    "# Create deep copies of the modules\n",
    "eval_enc = copy.deepcopy(enc)\n",
    "eval_pol = copy.deepcopy(pol)\n",
    "\n",
    "agent_eval = Agent(eval_enc, eval_pol, translation=None, num_envs=1, num_stack=4)\n",
    "agent_eval.eval()\n",
    "\n",
    "# Print whether the policy has requires_grad=True\n",
    "print(\"Policy requires grad:\", check_requires_grad(agent_eval.eval_enc))\n",
    "\n",
    "# Print whether the feature extractor has requires_grad=True\n",
    "print(\"Feature extractor requires grad:\", check_requires_grad(agent_eval.eval_enc))\n",
    "\n",
    "# Print whether the agent has requires_grad=True\n",
    "print(\"Agent requires grad:\", check_requires_grad(agent_eval.agent))\n",
    "\n",
    "# Print whether encoder is in training mode\n",
    "print(\"Encoder is in training mode:\", agent_eval.eval_enc.training)\n",
    "\n",
    "# Print whether policy is in training mode\n",
    "print(\"Policy is in training mode:\", agent_eval.eval_pol.training)\n",
    "\n",
    "# Print whether agent is in training mode\n",
    "print(\"Agent is in training mode:\", agent_eval.training)"
   ]
  },
  {
   "cell_type": "code",
   "execution_count": 7,
   "metadata": {},
   "outputs": [
    {
     "name": "stdout",
     "output_type": "stream",
     "text": [
      "Policy requires grad: True\n",
      "Feature extractor requires grad: False\n",
      "Agent requires grad: True\n",
      "Encoder is in training mode: True\n",
      "Policy is in training mode: True\n",
      "Agent is in training mode: True\n",
      "Eval Agent is in training mode: False\n"
     ]
    }
   ],
   "source": [
    "# Check if any parameter in the model requires gradients\n",
    "def check_requires_grad(model):\n",
    "    return any(param.requires_grad for param in model.parameters())\n",
    "\n",
    "# Print whether the policy has requires_grad=True\n",
    "print(\"Policy requires grad:\", check_requires_grad(pol))\n",
    "\n",
    "# Print whether the feature extractor has requires_grad=True\n",
    "print(\"Feature extractor requires grad:\", check_requires_grad(enc))\n",
    "\n",
    "# Print whether the agent has requires_grad=True\n",
    "print(\"Agent requires grad:\", check_requires_grad(agent))\n",
    "\n",
    "# Print whether encoder is in training mode\n",
    "print(\"Encoder is in training mode:\", enc.training)\n",
    "\n",
    "# Print whether policy is in training mode\n",
    "print(\"Policy is in training mode:\", pol.training)\n",
    "\n",
    "# Print whether agent is in training mode\n",
    "print(\"Agent is in training mode:\", agent.training)\n",
    "\n",
    "# Print whether agent is in training mode\n",
    "print(\"Eval Agent is in training mode:\", agent_eval.training)"
   ]
  },
  {
   "cell_type": "code",
   "execution_count": 8,
   "metadata": {},
   "outputs": [
    {
     "name": "stdout",
     "output_type": "stream",
     "text": [
      "Policy requires grad: True\n",
      "Feature extractor requires grad: False\n",
      "Agent requires grad: True\n",
      "Encoder is in training mode: True\n",
      "Policy is in training mode: True\n",
      "Agent is in training mode: True\n",
      "Eval Agent is in training mode: False\n"
     ]
    }
   ],
   "source": [
    "agent_eval.load_state_dict(agent.state_dict())\n",
    "\n",
    "\n",
    "# Print whether the policy has requires_grad=True\n",
    "print(\"Policy requires grad:\", check_requires_grad(pol))\n",
    "\n",
    "# Print whether the feature extractor has requires_grad=True\n",
    "print(\"Feature extractor requires grad:\", check_requires_grad(enc))\n",
    "\n",
    "# Print whether the agent has requires_grad=True\n",
    "print(\"Agent requires grad:\", check_requires_grad(agent))\n",
    "\n",
    "# Print whether encoder is in training mode\n",
    "print(\"Encoder is in training mode:\", enc.training)\n",
    "\n",
    "# Print whether policy is in training mode\n",
    "print(\"Policy is in training mode:\", pol.training)\n",
    "\n",
    "# Print whether agent is in training mode\n",
    "print(\"Agent is in training mode:\", agent.training)\n",
    "\n",
    "# Print whether agent is in training mode\n",
    "print(\"Eval Agent is in training mode:\", agent_eval.training)"
   ]
  },
  {
   "cell_type": "code",
   "execution_count": null,
   "metadata": {},
   "outputs": [],
   "source": []
  }
 ],
 "metadata": {
  "kernelspec": {
   "display_name": ".venv",
   "language": "python",
   "name": "python3"
  },
  "language_info": {
   "codemirror_mode": {
    "name": "ipython",
    "version": 3
   },
   "file_extension": ".py",
   "mimetype": "text/x-python",
   "name": "python",
   "nbconvert_exporter": "python",
   "pygments_lexer": "ipython3",
   "version": "3.9.18"
  }
 },
 "nbformat": 4,
 "nbformat_minor": 2
}
