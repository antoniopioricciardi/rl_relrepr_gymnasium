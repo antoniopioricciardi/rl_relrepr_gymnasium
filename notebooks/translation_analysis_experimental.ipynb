{
 "cells": [
  {
   "cell_type": "code",
   "execution_count": 1,
   "metadata": {},
   "outputs": [
    {
     "name": "stdout",
     "output_type": "stream",
     "text": [
      "/Users/antonioricciardi/projects/rl_relrepr_gymnasium/notebooks\n",
      "/Users/antonioricciardi/projects/rl_relrepr_gymnasium\n",
      "0.0.7\n"
     ]
    }
   ],
   "source": [
    "import os\n",
    "import itertools\n",
    "import random\n",
    "from typing import Sequence\n",
    "\n",
    "import matplotlib.pyplot as plt\n",
    "from plotly.subplots import make_subplots\n",
    "import plotly.graph_objects as go\n",
    "import seaborn as sns\n",
    "from mpl_toolkits.mplot3d import Axes3D  # Ensure 3D plotting is available\n",
    "import torch\n",
    "from pathlib import Path\n",
    "from pytorch_lightning import seed_everything\n",
    "from torch.nn import functional as F\n",
    "import numpy as np\n",
    "\n",
    "\n",
    "\n",
    "\n",
    "try:\n",
    "    # be ready for 3.10 when it drops\n",
    "    from enum import StrEnum\n",
    "except ImportError:\n",
    "    from backports.strenum import StrEnum\n",
    "from enum import auto\n",
    "\n",
    "# from nn_core.common import PROJECT_ROOT\n",
    "import pickle\n",
    "\n",
    "print(os.path.abspath(os.curdir))\n",
    "os.chdir(\"..\")\n",
    "print(os.path.abspath(os.curdir))\n",
    "from src.zeroshotrl.rl_agents.ppo.ppo_end_to_end_relu_stack_align import FeatureExtractor\n",
    "# from src.zeroshotrl.rl_agents.ppo.ppo_end_to_end_relu_stack_align_hidden import Policy\n",
    "from src.zeroshotrl.utils.relative import *\n",
    "from src.zeroshotrl.utils.notebooks import *\n",
    "\n",
    "import latentis\n",
    "\n",
    "print(latentis.__version__)\n",
    "\n",
    "# Relative stuff\n",
    "from latentis.space import LatentSpace\n",
    "from latentis.project import RelativeProjector\n",
    "from latentis.project import relative\n",
    "from latentis.transform import Centering, StandardScaling\n",
    "\n",
    "# from latentis.transform.base import StandardScaling, Centering\n",
    "# from latentis.transform.dim_matcher import ZeroPadding\n",
    "# from latentis.transform.translate.aligner import MatrixAligner, Translator\n",
    "# from latentis.transform.translate.functional import (\n",
    "#     svd_align_state,\n",
    "# )\n",
    "\n",
    "\n",
    "from sklearn.decomposition import PCA\n",
    "from sklearn.manifold import TSNE\n",
    "\n",
    "try:\n",
    "    # be ready for 3.10 when it drops\n",
    "    from enum import StrEnum\n",
    "except ImportError:\n",
    "    from backports.strenum import StrEnum\n",
    "from enum import auto\n",
    "\n",
    "from zeroshotrl.utils.relative import *\n",
    "from zeroshotrl.utils.notebooks import *"
   ]
  },
  {
   "cell_type": "code",
   "execution_count": 2,
   "metadata": {},
   "outputs": [],
   "source": [
    "from latentis.space import LatentSpace\n",
    "from latentis.utils import seed_everything\n",
    "\n",
    "# from latentis import transforms\n",
    "from latentis.estimate.dim_matcher import ZeroPadding\n",
    "from latentis.estimate.orthogonal import SVDEstimator\n",
    "from latentis.estimate.linear import LSTSQEstimator\n",
    "from latentis.estimate.affine import SGDAffineTranslator\n",
    "from latentis.translate.translator import LatentTranslator\n",
    "\n",
    "\n",
    "from src.zeroshotrl.utils.anchoring_methods import get_anchors"
   ]
  },
  {
   "cell_type": "code",
   "execution_count": 3,
   "metadata": {},
   "outputs": [
    {
     "name": "stdout",
     "output_type": "stream",
     "text": [
      "['test_grads.ipynb', 'models.dvc', 'miniworld_train.py', '.DS_Store', 'miniworld_test.py', 'requirements.txt', 'uv.lock', 'data_collection', 'minigrid_original', 'ppo_atari_lstm.py', '.pre-commit-config.yaml', '.ruff_cache', 'experiments', 'paper_data', 'collect_data.sh', 'pyproject.toml', '.dvc', 'eval_1_synthetic.csv', 'old', 'vizdoom_scenarios', 'models', 'finetuning', '__pycache__', 'test.py', 'environment_mac.yml', 'README.md', '_vizdoom.ini', 'sac.py', '.gitignore', 'data.dvc', 'ppo.gin', '.venv', 'vizdoom_test.py', 'scripts', 'scenarios', 'relative_rl_requirements_mac_old.txt', 'ppo_miniworld_logs', '.git', 'alignment_indices', 'paper_stuff.tex', 'a2c.py', 'data', 'test.ipynb', 'runs', 'a2c copy.py', 'notebooks', 'requirements_mac.txt', 'wandb', '.dvcignore', 'paper_relrepr', 'src']\n"
     ]
    }
   ],
   "source": [
    "from tueplots import bundles\n",
    "\n",
    "# plt.rcParams.update(bundles.icml2022())\n",
    "bundles.icml2022()\n",
    "\n",
    "CMAP = \"jet\"\n",
    "\n",
    "# DATA_DIR: Path = PROJECT_ROOT\n",
    "# print files in the current working directory\n",
    "print(os.listdir(os.curdir))"
   ]
  },
  {
   "cell_type": "code",
   "execution_count": 4,
   "metadata": {},
   "outputs": [],
   "source": [
    "\n",
    "anchors_env_id1 = \"LunarLanderRGB\" # \"MiniWorld-OneRoom-v0\" # \"CarRacing-v2\" # \"LunarLanderRGB\"\n",
    "anchors_env_id2 = \"LunarLanderRGB\" # \"MiniWorld-OneRoom-v0\" # \"CarRacing-v2\" # \"LunarLanderRGB\"\n",
    "obs_env_id1 = \"LunarLanderRGB\" # \"MiniWorld-OneRoom-v0\" # \"CarRacing-v2\" #\"LunarLanderRGB\"\n",
    "obs_env_id2 = \"LunarLanderRGB-3\" # \"MiniWorld-OneRoom-v0\" # \"CarRacing-v2\" # \"LunarLanderRGB\"\n",
    "\n",
    "anchors_color1 = \"red\" # \"standard\"\n",
    "anchors_color2 = \"white\" # \"standard\"\n",
    "\n",
    "color1 = \"red\" # \"standard\"\n",
    "color2 = \"white\" # \"standard\"\n",
    "\n",
    "layers_list = ['enc', 'pol']\n",
    "layer_to_use = layers_list[0]\n",
    "\n",
    "enc1_seed = 1\n",
    "enc2_seed = 1\n",
    "\n",
    "anchors_path1 = f\"data/anchors/{anchors_env_id1}/rgb_ppo_transitions_{anchors_color1}_obs.pkl\"\n",
    "anchors_path2 = f\"data/anchors/{anchors_env_id2}/rgb_ppo_transitions_{anchors_color2}_obs.pkl\"\n",
    "obs_path1 = f\"data/anchors/{obs_env_id1}/rgb_ppo_transitions_{color1}_obs.pkl\"\n",
    "obs_path2 = f\"data/anchors/{obs_env_id2}/rgb_ppo_transitions_{color2}_obs.pkl\"\n",
    "\n",
    "\n",
    "algo1 = \"ppo\"\n",
    "algo2 = \"ppo\"\n",
    "env_id1 = obs_env_id1# \"CarRacing-v2\"\n",
    "env_id2 = obs_env_id2# \"CarRacing-v2-bus\"\n",
    "device = torch.device(\"cuda\" if torch.cuda.is_available() else \"cpu\")\n",
    "\n",
    "enc1_path = f\"models/{env_id1}/rgb/{color1}/{algo1}/absolute/relu/seed_{enc1_seed}/encoder.pt\"\n",
    "enc2_path = f\"models/{env_id2}/rgb/{color2}/{algo2}/absolute/relu/seed_{enc2_seed}/encoder.pt\"\n",
    "encoder1_dict = torch.load(\n",
    "    enc1_path,\n",
    "    map_location=device,\n",
    ")\n",
    "encoder2_dict = torch.load(\n",
    "    enc2_path,\n",
    "    map_location=device,\n",
    ")"
   ]
  },
  {
   "cell_type": "code",
   "execution_count": 5,
   "metadata": {},
   "outputs": [
    {
     "data": {
      "text/plain": [
       "<All keys matched successfully>"
      ]
     },
     "execution_count": 5,
     "metadata": {},
     "output_type": "execute_result"
    }
   ],
   "source": [
    "encoder1 = FeatureExtractor()\n",
    "encoder2 = FeatureExtractor()\n",
    "encoder1.load_state_dict(encoder1_dict)\n",
    "encoder2.load_state_dict(encoder2_dict)"
   ]
  },
  {
   "cell_type": "code",
   "execution_count": 6,
   "metadata": {},
   "outputs": [
    {
     "name": "stdout",
     "output_type": "stream",
     "text": [
      "\n",
      "#####\n",
      "Obs loaded\n",
      "#####\n",
      "\n",
      "Converting obs to torch tensor\n",
      "Done converting obs to torch tensor\n",
      "#####\n",
      "\n"
     ]
    }
   ],
   "source": [
    "device = torch.device(\"cuda\" if torch.cuda.is_available() else \"cpu\")\n",
    "encoder1.to(device)\n",
    "encoder2.to(device)\n",
    "\n",
    "\n",
    "obs_set_1 = pickle.load(Path(obs_path1).open(\"rb\"))  # [30:2000]\n",
    "obs_set_2 = pickle.load(Path(anchors_path2).open(\"rb\"))  # [30:2000]\n",
    "print(\"\\n#####\\nObs loaded\\n#####\\n\")\n",
    "\n",
    "anchors_set_1 = pickle.load(Path(anchors_path1).open(\"rb\"))\n",
    "anchors_set_2 = pickle.load(Path(anchors_path2).open(\"rb\"))\n",
    "anchors_set_1 = torch.tensor(np.array(anchors_set_1), dtype=torch.float32)\n",
    "anchors_set_2 = torch.tensor(np.array(anchors_set_2), dtype=torch.float32)\n",
    "# subset_indices = np.random.randint(0, len(obs_set_1), 5000)\n",
    "obs_set_1 = obs_set_1\n",
    "obs_set_2 = obs_set_2\n",
    "\n",
    "print(\"Converting obs to torch tensor\")\n",
    "# convert the (4000, 3, 84, 84) numpy array to a torch tensor\n",
    "obs_set_1 = torch.tensor(np.array(obs_set_1), dtype=torch.float32)\n",
    "obs_set_2 = torch.tensor(np.array(obs_set_2), dtype=torch.float32)\n",
    "print(\"Done converting obs to torch tensor\\n#####\\n\")\n",
    "\n",
    "# obs_set_1 = torch.cat([obs_set_1, obs_set_2], dim=0)  # [anch_indices\n",
    "# obs_set_2 = obs_set_1\n",
    "\n",
    "# obs_set_1 = torch.cat(obs_set_1, dim=0).cpu()  # [anch_indices]\n",
    "# obs_set_2 = torch.cat(obs_set_2, dim=0).cpu()  # [anch_indices]\n",
    "space1 = encoder1.forward_single(obs_set_1[:900].to(device))#.detach().cpu()\n",
    "space2 = encoder2.forward_single(obs_set_2[:900].to(device))#.detach().cpu()"
   ]
  },
  {
   "cell_type": "code",
   "execution_count": 7,
   "metadata": {},
   "outputs": [],
   "source": [
    "# randomly sample 1000 anchors from each set\n",
    "random_indexing = torch.randperm(anchors_set_1.size(0))[:1000]\n",
    "\n",
    "# anchors_space1 = encoder1.forward_single(anchors_set_1[random_indexing].to(device)).detach().cpu()\n",
    "# anchors_space2 = encoder2.forward_single(anchors_set_2[random_indexing].to(device)).detach().cpu()\n",
    "\n",
    "anchors_space1 = encoder1.forward_single(anchors_set_1.to(device)).detach().cpu()\n",
    "anchors_space2 = encoder2.forward_single(anchors_set_2.to(device)).detach().cpu()\n",
    "\n",
    "anchors_space1 = anchors_space1[random_indexing]\n",
    "anchors_space2 = anchors_space2[random_indexing]\n",
    "\n",
    "# # center anchors\n",
    "# anchors_space1_mean = anchors_space1.mean(dim=0)\n",
    "# anchors_space2_mean = anchors_space2.mean(dim=0)\n",
    "\n",
    "# center_anchor_translations = torch.cdist(\n",
    "#     anchors_space1_mean.unsqueeze(0), anchors_space2_mean.unsqueeze(0), p=2\n",
    "# )\n",
    "\n",
    "# anchors_space1 = anchors_space1 - anchors_space1.mean(\n",
    "#     dim=0\n",
    "# )  # / anchors_space1.std(dim=0)\n",
    "# anchors_space2 = anchors_space2 - anchors_space2.mean(\n",
    "#     dim=0\n",
    "# )  # / anchors_space2.std(dim=0)\n",
    "# center_anchor_translations = torch.cdist(\n",
    "#     anchors_space1.mean(dim=0, keepdim=True),\n",
    "#     anchors_space2.mean(dim=0, keepdim=True).unsqueeze(0),\n",
    "#     p=2,\n",
    "# )\n",
    "\n",
    "# norm_anchors_space1: torch.Tensor = F.normalize(anchors_space1, p=2, dim=-1)\n",
    "# norm_anchors_space2: torch.Tensor = F.normalize(anchors_space2, p=2, dim=-1)\n",
    "\n",
    "# assert norm_anchors_space1.shape == norm_anchors_space2.shape\n",
    "\n",
    "\n",
    "# norm_space1 = space1 - anchors_space1_mean  #  / self.anchors_std\n",
    "# norm_space1: torch.Tensor = F.normalize(norm_space1, p=2, dim=-1)\n",
    "\n",
    "# norm_space2 = space2 - anchors_space2_mean  #  / self.anchors_std\n",
    "# norm_space2: torch.Tensor = F.normalize(norm_space2, p=2, dim=-1)"
   ]
  },
  {
   "cell_type": "code",
   "execution_count": 8,
   "metadata": {},
   "outputs": [],
   "source": [
    "subset_indices = np.arange(len(anchors_space1))  # [:4000]"
   ]
  },
  {
   "cell_type": "code",
   "execution_count": 9,
   "metadata": {},
   "outputs": [
    {
     "data": {
      "text/plain": [
       "(torch.Size([4000, 3, 84, 84]),\n",
       " torch.Size([4000, 3, 84, 84]),\n",
       " torch.Size([4000, 3, 84, 84]),\n",
       " torch.Size([4000, 3, 84, 84]),\n",
       " torch.Size([900, 3136]),\n",
       " torch.Size([900, 3136]),\n",
       " torch.Size([1000, 3136]),\n",
       " torch.Size([1000, 3136]))"
      ]
     },
     "execution_count": 9,
     "metadata": {},
     "output_type": "execute_result"
    }
   ],
   "source": [
    "anchors_set_1.shape, anchors_set_2.shape, obs_set_1.shape, obs_set_2.shape, space1.shape, space2.shape, anchors_space1.shape, anchors_space2.shape"
   ]
  },
  {
   "cell_type": "code",
   "execution_count": 10,
   "metadata": {},
   "outputs": [
    {
     "data": {
      "text/plain": [
       "(tensor(1.), tensor(1.), tensor(1.), tensor(1.))"
      ]
     },
     "execution_count": 10,
     "metadata": {},
     "output_type": "execute_result"
    }
   ],
   "source": [
    "obs_set_1.max(), obs_set_2.max(), anchors_set_1.max(), anchors_set_2.max()"
   ]
  },
  {
   "cell_type": "code",
   "execution_count": 11,
   "metadata": {},
   "outputs": [
    {
     "data": {
      "image/png": "[encoded data removed]",
      "text/plain": [
       "<Figure size 640x480 with 2 Axes>"
      ]
     },
     "metadata": {},
     "output_type": "display_data"
    }
   ],
   "source": [
    "# plot obs_set_1 and obs_set_2 images in a subplot\n",
    "i = 640\n",
    "fig, ax = plt.subplots(1, 2)\n",
    "ax[0].imshow(anchors_set_1[i].permute(1, 2, 0))\n",
    "ax[1].imshow(anchors_set_2[i].permute(1, 2, 0))\n",
    "plt.show()"
   ]
  },
  {
   "cell_type": "code",
   "execution_count": 12,
   "metadata": {},
   "outputs": [
    {
     "name": "stdout",
     "output_type": "stream",
     "text": [
      "mean distance between anchors:  tensor(0.0404, grad_fn=<MeanBackward0>)\n",
      "900 900\n",
      "tensor(0.1150, grad_fn=<MseLossBackward0>)\n"
     ]
    }
   ],
   "source": [
    "\n",
    "# space1 = encoder1.forward_single(obs_set_1.to(device)).detach().cpu()#[:900]\n",
    "# space2 = encoder2.forward_single(obs_set_2.to(device)).detach().cpu()#[:900]\n",
    "\n",
    "# compute mean distance between anchors\n",
    "diff = space1 - space2\n",
    "print(\"mean distance between anchors: \", diff.mean())\n",
    "print(len(space1), len(space2))\n",
    "\n",
    "mse = torch.nn.MSELoss()\n",
    "print(mse(space1, space2))"
   ]
  },
  {
   "cell_type": "code",
   "execution_count": 13,
   "metadata": {},
   "outputs": [
    {
     "name": "stdout",
     "output_type": "stream",
     "text": [
      "gettin random anchors\n",
      "random done\n"
     ]
    }
   ],
   "source": [
    "import latentis.transform\n",
    "\n",
    "anchoring_method = \"random\"\n",
    "# encoder_dir = \"models/CarRacing-v2/rgb/green/ppo/absolute/relu/seed_2\"\n",
    "encoder_dir = str(enc1_path).replace(\"encoder.pt\", \"\")\n",
    "\n",
    "align_path = os.path.join(\n",
    "    \"alignment_indices\", str(encoder_dir).replace(\"models/\", \"\")\n",
    ")\n",
    "if not os.path.exists(align_path):\n",
    "    os.makedirs(align_path)\n",
    "translation_path = os.path.join(align_path, f\"{anchoring_method}_closest.pt\")\n",
    "\n",
    "num_anchors = 900  # len(space1_anchors) # 3136\n",
    "space1_anchors, space2_anchors = get_anchors(\n",
    "    anchors_space1,\n",
    "    anchors_space2,\n",
    "    num_anchors,\n",
    "    subset_indices,\n",
    "    anchoring_method,\n",
    "    translation_path,\n",
    "    use_saved=False,\n",
    "    device=device\n",
    ")\n",
    "\n",
    "\n",
    "translation = LatentTranslator(\n",
    "    random_seed=42,\n",
    "    # estimator=LSTSQEstimator(),\n",
    "    estimator=SVDEstimator(\n",
    "        dim_matcher=ZeroPadding()\n",
    "    ),  # SGDAffineTranslator(),#SVDEstimator(dim_matcher=ZeroPadding()),\n",
    "    source_transforms=[latentis.transform.StandardScaling()], # [latentis.transform.Centering()], # [latentis.transform.StandardScaling()], #None\n",
    "    target_transforms=[latentis.transform.StandardScaling()], # [latentis.transform.Centering()], # [latentis.transform.StandardScaling()],\n",
    ")\n",
    "\n",
    "translation = LatentTranslator(\n",
    "    random_seed=42,\n",
    "    estimator = SGDAffineTranslator(),#SVDEstimator(dim_matcher=ZeroPadding()),\n",
    "    source_transforms=[latentis.transform.StandardScaling()], # [latentis.transform.Centering()], # [latentis.transform.StandardScaling()], #None\n",
    "    target_transforms=[latentis.transform.StandardScaling()], # [latentis.transform.Centering()], # [latentis.transform.StandardScaling()],\n",
    ")\n",
    "# translation = LatentTranslation(\n",
    "#     seed=42,\n",
    "#     translator=SVDTranslator(),\n",
    "#     source_transforms=None, #[Transforms.StandardScaling()],\n",
    "#     target_transforms=None, #[Transforms.StandardScaling()],\n",
    "# )\n",
    "space1_anchors = space1_anchors.to(device)  # [:3136]\n",
    "space2_anchors = space2_anchors.to(device)  # [:3136]\n",
    "\n",
    "\n",
    "# shuffle anchors and sort by their value along the dim d (they have shape (n,d))\n",
    "space1_anchors = space1_anchors[torch.randperm(space1_anchors.size(0))]\n",
    "space1_anchors, sorted_indices2 = space1_anchors.sort(dim=0, descending=True)\n",
    "\n",
    "space2_anchors = space2_anchors[torch.randperm(space2_anchors.size(0))]\n",
    "space2_anchors, sorted_indices2 = space2_anchors.sort(dim=0, descending=True)"
   ]
  },
  {
   "cell_type": "code",
   "execution_count": 14,
   "metadata": {},
   "outputs": [
    {
     "name": "stdout",
     "output_type": "stream",
     "text": [
      "mean squared error between the two spaces: 0.05581879988312721\n",
      "cosine similarity between the two spaces: 0.5201734900474548\n"
     ]
    }
   ],
   "source": [
    "# print mse and cosine similarity between the two spaces\n",
    "mse = torch.nn.MSELoss()\n",
    "cos = torch.nn.CosineSimilarity()\n",
    "print(\n",
    "    f\"mean squared error between the two spaces: {mse(space1_anchors, space2_anchors)}\"\n",
    ")\n",
    "print(\n",
    "    f\"cosine similarity between the two spaces: {cos(space1_anchors, space2_anchors).mean()}\"\n",
    ")"
   ]
  },
  {
   "cell_type": "code",
   "execution_count": 15,
   "metadata": {},
   "outputs": [],
   "source": [
    "import torch\n",
    "\n",
    "def marginal_sort_lstsq(x, y):\n",
    "    \"\"\"\n",
    "    x: (n, d) tensor - samples from source distribution\n",
    "    y: (n, d) tensor - samples from target distribution\n",
    "    Returns: (d, 2) tensor - affine parameters per dimension (slope, intercept)\n",
    "    \"\"\"\n",
    "    n, d = x.shape\n",
    "    x_sorted = torch.sort(x, dim=0).values  # sort each column\n",
    "    y_sorted = torch.sort(y, dim=0).values\n",
    "\n",
    "    coeffs = []\n",
    "    ones = torch.ones((n, 1), device=x.device)\n",
    "\n",
    "    for j in range(d):\n",
    "        A = torch.cat([x_sorted[:, j:j+1], ones], dim=1)  # (n, 2): [x, 1]\n",
    "        sol = torch.linalg.lstsq(y_sorted[:, j:j+1], A).solution  # legacy version\n",
    "        # for PyTorch >= 1.9, use torch.linalg.lstsq:\n",
    "        # sol = torch.linalg.lstsq(A, y_sorted[:, j:j+1]).solution\n",
    "        coeffs.append(sol[:2].squeeze())\n",
    "\n",
    "    return torch.stack(coeffs)  # shape: (d, 2)\n",
    "\n",
    "def apply_affine_map(x_new, coeffs):\n",
    "    \"\"\"\n",
    "    Apply per-dimension affine transform to x_new using learned coeffs\n",
    "    x_new: (m, d) tensor\n",
    "    coeffs: (d, 2) tensor, where coeffs[:, 0] = slope, coeffs[:, 1] = intercept\n",
    "    Returns: (m, d) transformed tensor\n",
    "    \"\"\"\n",
    "    slope = coeffs[:, 0]\n",
    "    intercept = coeffs[:, 1]\n",
    "    return x_new * slope + intercept"
   ]
  },
  {
   "cell_type": "code",
   "execution_count": 16,
   "metadata": {},
   "outputs": [],
   "source": [
    "import torch\n",
    "\n",
    "def linear_ot_gaussian(x, y, eps=1e-6):\n",
    "    \"\"\"\n",
    "    Estimate optimal linear transport map (A, b) such that y ≈ x @ A.T + b\n",
    "    Assumes x, y ~ continuous distributions, not paired\n",
    "    \"\"\"\n",
    "    # Center the data\n",
    "    x_mean = x.mean(0)\n",
    "    y_mean = y.mean(0)\n",
    "    x_c = x - x_mean\n",
    "    y_c = y - y_mean\n",
    "\n",
    "    # Covariance\n",
    "    cov_x = x_c.T @ x_c / (x.shape[0] - 1) + eps * torch.eye(x.shape[1], device=x.device)\n",
    "    cov_y = y_c.T @ y_c / (y.shape[0] - 1) + eps * torch.eye(y.shape[1], device=y.device)\n",
    "\n",
    "    # Square roots via symmetric eigendecomposition\n",
    "    # def sqrtm(mat):\n",
    "    #     eigvals, eigvecs = torch.linalg.eigh(mat)\n",
    "    #     return eigvecs @ torch.diag(torch.sqrt(torch.clamp(eigvals, min=0))) @ eigvecs.T\n",
    "    def sqrtm(mat):\n",
    "        # Enforce symmetry and use double precision for stability\n",
    "        mat = ((mat + mat.T) / 2).double()\n",
    "        eigvals, eigvecs = torch.linalg.eigh(mat)\n",
    "        sqrt_eigvals = torch.sqrt(torch.clamp(eigvals, min=0))\n",
    "        sqrt_mat = eigvecs @ torch.diag(sqrt_eigvals) @ eigvecs.T\n",
    "        return sqrt_mat.float()  # Convert back if needed\n",
    "\n",
    "    cov_x_sqrt = sqrtm(cov_x)\n",
    "    inv_cov_x_sqrt = torch.linalg.inv(cov_x_sqrt)\n",
    "    middle = sqrtm(cov_x_sqrt @ cov_y @ cov_x_sqrt)\n",
    "\n",
    "    A = inv_cov_x_sqrt @ middle @ inv_cov_x_sqrt\n",
    "    b = y_mean - x_mean @ A.T\n",
    "\n",
    "    return A.T, b  # Return in form y ≈ x @ A.T + b\n",
    "\n",
    "# def apply_linear_map(x_new, A, b):\n",
    "#     return x_new @ A + b\n",
    "\n",
    "\n",
    "def apply_linear_map_loop(x_new, A, b):\n",
    "    \"\"\"\n",
    "    Applies a linear map to x_new using a for loop.\n",
    "    \n",
    "    Args:\n",
    "        x_new (torch.Tensor): Input tensor of shape (m, d)\n",
    "        A (torch.Tensor): Transformation matrix of shape (d, d)\n",
    "        b (torch.Tensor): Bias vector of shape (d,)\n",
    "    \n",
    "    Returns:\n",
    "        torch.Tensor: Transformed tensor of shape (m, d)\n",
    "    \"\"\"\n",
    "    m = x_new.shape[0]           # Number of samples\n",
    "    d = A.shape[1]               # Dimension of the transformation output\n",
    "    \n",
    "    # Allocate an empty tensor with the same device and dtype as x_new\n",
    "    result = torch.empty(m, d, device=x_new.device, dtype=x_new.dtype)\n",
    "    \n",
    "    # Loop over each sample and compute: result[i] = x_new[i] @ A + b\n",
    "    for i in range(m):\n",
    "        result[i] = x_new[i] @ A + b\n",
    "    \n",
    "    return result"
   ]
  },
  {
   "cell_type": "code",
   "execution_count": 17,
   "metadata": {},
   "outputs": [],
   "source": [
    "def pca_procrustes(x, y, k=None):\n",
    "    \"\"\"\n",
    "    Estimate linear map A and bias b that approximately aligns x to y,\n",
    "    assuming the rows are unpaired but distributions aligned.\n",
    "\n",
    "    Args:\n",
    "        x: (n, d) source data\n",
    "        y: (n, d) target data\n",
    "        k: number of components (default: full rank)\n",
    "    Returns:\n",
    "        A: (d, d) estimated linear map\n",
    "        b: (d,) estimated bias\n",
    "    \"\"\"\n",
    "    x_mean = x.mean(0)\n",
    "    y_mean = y.mean(0)\n",
    "    x_c = x - x_mean\n",
    "    y_c = y - y_mean\n",
    "\n",
    "    # PCA on features (d x d)\n",
    "    Ux, _, _ = torch.linalg.svd(x_c.T, full_matrices=False)  # Ux: d x d\n",
    "    Uy, _, _ = torch.linalg.svd(y_c.T, full_matrices=False)  # Uy: d x d\n",
    "\n",
    "    if k is not None:\n",
    "        Ux = Ux[:, :k]\n",
    "        Uy = Uy[:, :k]\n",
    "\n",
    "    # Rotation from x space to y space\n",
    "    A = Uy @ Ux.T\n",
    "    b = y_mean - x_mean @ A.T\n",
    "    return A.T, b"
   ]
  },
  {
   "cell_type": "code",
   "execution_count": 19,
   "metadata": {},
   "outputs": [],
   "source": [
    "# # Learn mapping\n",
    "# coeffs = marginal_sort_lstsq(space1_anchors, space2_anchors)\n",
    "\n",
    "# # Transform a new sample from source\n",
    "# x_new = torch.tensor([[0.0, 1.0, -1.0]])\n",
    "# translated_space1 = apply_affine_map(space1, coeffs)\n",
    "\n",
    "# coeffs = linear_ot_gaussian(space1_anchors, space2_anchors)\n",
    "coeffs = pca_procrustes(space1_anchors, space2_anchors)\n",
    "# Transform a new sample from source\n",
    "translated_space1 = apply_linear_map_loop(space1, *coeffs)\n"
   ]
  },
  {
   "cell_type": "code",
   "execution_count": 20,
   "metadata": {},
   "outputs": [
    {
     "data": {
      "text/plain": [
       "(torch.Size([900, 3136]), torch.Size([900, 3136]))"
      ]
     },
     "execution_count": 20,
     "metadata": {},
     "output_type": "execute_result"
    }
   ],
   "source": [
    "space1_anchors.shape, space2_anchors.shape"
   ]
  },
  {
   "cell_type": "code",
   "execution_count": 21,
   "metadata": {},
   "outputs": [
    {
     "name": "stdout",
     "output_type": "stream",
     "text": [
      "Computing avg pairwise distances between space1 and space2...\n",
      "tensor(19.5009, grad_fn=<MeanBackward0>)\n",
      "\n",
      "##############################################\n",
      "\n",
      "Computing avg pairwise distances between translated space1 and space2...\n",
      "tensor(16.5980, grad_fn=<MeanBackward0>)\n",
      "cosine similarity between space1 and space2:  tensor(0.3644, grad_fn=<MeanBackward0>)\n",
      "cosine similarity between translated space1 and space2:  tensor(0.0554, grad_fn=<MeanBackward0>)\n"
     ]
    }
   ],
   "source": [
    "# space1 = space1[:900]\n",
    "# space2 = space2[:900]\n",
    "\n",
    "# translated_space1 = translation(space1)\n",
    "print(\"Computing avg pairwise distances between space1 and space2...\")\n",
    "print(torch.cdist(space1, space2, p=2).mean())\n",
    "\n",
    "print(\"\\n##############################################\\n\")\n",
    "print(\"Computing avg pairwise distances between translated space1 and space2...\")\n",
    "pairwise_dist_translated = torch.cdist(translated_space1, space2, p=2).mean()\n",
    "print(pairwise_dist_translated)\n",
    "\n",
    "# print cosine similarities between space1 and space2, and translated space1 and space2\n",
    "cos = torch.nn.CosineSimilarity(dim=1)\n",
    "cos_sim = cos(space1, space2)\n",
    "print(\"cosine similarity between space1 and space2: \", cos_sim.mean())\n",
    "\n",
    "cos = torch.nn.CosineSimilarity(dim=1)\n",
    "cos_sim = cos(translated_space1, space2)\n",
    "print(\n",
    "    \"cosine similarity between translated space1 and space2: \",\n",
    "    cos_sim.mean(),\n",
    ")"
   ]
  },
  {
   "cell_type": "code",
   "execution_count": 22,
   "metadata": {},
   "outputs": [],
   "source": [
    "projector = RelativeProjector(\n",
    "    projection_fn=relative.cosine_proj,\n",
    "    abs_transforms=[Centering(), StandardScaling()],\n",
    ")\n",
    "projector.to(device)\n",
    "\n",
    "rel_space1 = projector(x=space1[:800], anchors=space1_anchors).detach().cpu()  # .vectors\n",
    "rel_space2 = projector(x=space2[:800], anchors=space2_anchors).detach().cpu()  # .vectors"
   ]
  },
  {
   "cell_type": "code",
   "execution_count": 23,
   "metadata": {},
   "outputs": [],
   "source": [
    "space1 = space1.detach().cpu()\n",
    "space2 = space2.detach().cpu()\n",
    "translated_space1 = translated_space1.detach().cpu()"
   ]
  },
  {
   "cell_type": "code",
   "execution_count": 24,
   "metadata": {},
   "outputs": [
    {
     "data": {
      "image/png": "[encoded data removed]",
      "text/plain": [
       "<Figure size 600x600 with 1 Axes>"
      ]
     },
     "execution_count": 24,
     "metadata": {},
     "output_type": "execute_result"
    }
   ],
   "source": [
    "fig = plot_pairwise_dist(space1=space1[:800], space2=space2[:800], prefix=\"Absolute\", dist_method=\"cosine\", show_title=False)\n",
    "# save fig\n",
    "fig.savefig(f\"experiments/plots/{env_id1}_{color1}_{env_id2}_{color2}_pairwise_dist_abs.pdf\", bbox_inches='tight')\n",
    "fig"
   ]
  },
  {
   "cell_type": "code",
   "execution_count": 25,
   "metadata": {},
   "outputs": [
    {
     "data": {
      "image/png": "[encoded data removed]",
      "text/plain": [
       "<Figure size 600x600 with 1 Axes>"
      ]
     },
     "execution_count": 25,
     "metadata": {},
     "output_type": "execute_result"
    }
   ],
   "source": [
    "fig = plot_pairwise_dist(space1=translated_space1[:800], space2=space2[:800], prefix=\"SAPS\", dist_method=\"cosine\", show_title=False)\n",
    "# save fig\n",
    "fig.savefig(f\"experiments/plots/{env_id1}_{color1}_{env_id2}_{color2}_pairwise_dist_transl.pdf\", bbox_inches='tight')\n",
    "fig"
   ]
  },
  {
   "cell_type": "code",
   "execution_count": 26,
   "metadata": {},
   "outputs": [
    {
     "data": {
      "image/png": "[encoded data removed]",
      "text/plain": [
       "<Figure size 600x600 with 1 Axes>"
      ]
     },
     "execution_count": 26,
     "metadata": {},
     "output_type": "execute_result"
    }
   ],
   "source": [
    "fig = plot_pairwise_dist(space1=rel_space1[:800], space2=rel_space2[:800], prefix=\"R3L\", dist_method=\"cosine\", show_title=False)\n",
    "# save fig\n",
    "fig.savefig(f\"experiments/plots/{env_id1}_{color1}_{env_id2}_{color2}_pairwise_dist_rel.pdf\", bbox_inches='tight')\n",
    "fig"
   ]
  },
  {
   "cell_type": "code",
   "execution_count": null,
   "metadata": {},
   "outputs": [],
   "source": [
    "import plotly.subplots as sp\n",
    "import plotly.graph_objects as go\n",
    "\n",
    "episode_space1 = space1[:800] # [:85]\n",
    "episode_space2 = space2[:800] # [:85]\n",
    "episode_rel_space1 = translated_space1[:800] # [:85]\n",
    "episode_rel_space2 = space2[:800] # [:85]\n",
    "\n",
    "# Data for the heatmaps\n",
    "dist_method = DistMethod.COSINE\n",
    "absolute_dists = all_dist(space1=episode_space1, space2=episode_space2, method=dist_method)\n",
    "relative_dists = all_dist(space1=episode_rel_space1, space2=episode_rel_space2, method=dist_method)\n",
    "\n",
    "# Create a subplot with two heatmaps side-by-side\n",
    "fig = sp.make_subplots(\n",
    "    rows=1, cols=2,\n",
    "    subplot_titles=(\"Absolute\", \"SAPS\"),\n",
    "    shared_yaxes=True,\n",
    "    horizontal_spacing=0.03,  # Reduced spacing to bring plots closer\n",
    ")\n",
    "\n",
    "# Add Absolute Self-Similarities heatmap\n",
    "fig.add_trace(\n",
    "    go.Heatmap(\n",
    "        z=absolute_dists,\n",
    "        colorscale=\"Viridis\",\n",
    "        zmin=0, zmax=1,\n",
    "        colorbar=dict(\n",
    "            len=1,  # Full height\n",
    "            thickness=15,  # Make the colorbar thinner\n",
    "            tickvals=[0, 0.25, 0.5, 0.75, 1],\n",
    "        ),\n",
    "    ),\n",
    "    row=1, col=1,\n",
    ")\n",
    "\n",
    "# Add Relative Self-Similarities heatmap\n",
    "fig.add_trace(\n",
    "    go.Heatmap(\n",
    "        z=relative_dists,\n",
    "        colorscale=\"Viridis\",\n",
    "        zmin=0, zmax=1,\n",
    "        showscale=False,  # Hide individual colorbar\n",
    "    ),\n",
    "    row=1, col=2,\n",
    ")\n",
    "\n",
    "# Update layout for square plots\n",
    "fig.update_layout(\n",
    "    xaxis=dict(scaleanchor=\"y\", constrain=\"domain\"),  # Equal aspect ratio for x and y\n",
    "    xaxis2=dict(scaleanchor=\"y2\", constrain=\"domain\"),\n",
    "    yaxis=dict(scaleanchor=\"x\", constrain=\"domain\"),\n",
    "    width=800,  # Adjust the total width\n",
    "    height=400,  # Adjust the total height for square subplots\n",
    "    margin=dict(l=50, r=50, t=50, b=50),  # Add some margins for aesthetics\n",
    "    yaxis2=dict(\n",
    "        showticklabels=True,\n",
    "        showline=True,\n",
    "        showgrid=False,\n",
    "        zeroline=False,\n",
    "        title=\"\",  # Remove duplicate y-axis title on the right\n",
    "    ),\n",
    ")\n",
    "\n",
    "# Show the figure\n",
    "fig.show()\n",
    "\n",
    "# Save the figure\n",
    "fig.write_image(f\"experiments/plots/{env_id1}_{color1}_{env_id2}_{color2}_abs_rel_heatmap.pdf\")\n"
   ]
  },
  {
   "cell_type": "code",
   "execution_count": null,
   "metadata": {},
   "outputs": [],
   "source": [
    "import plotly.subplots as sp\n",
    "import plotly.graph_objects as go\n",
    "\n",
    "episode_space1 = space1[:800] # [:85]\n",
    "episode_space2 = space2[:800] # [:85]\n",
    "episode_rel_space1 = rel_space1[:800] # [:85]\n",
    "episode_rel_space2 = rel_space2[:800] # [:85]\n",
    "\n",
    "# Data for the heatmaps\n",
    "dist_method = DistMethod.COSINE\n",
    "absolute_dists = all_dist(space1=episode_space1, space2=episode_space2, method=dist_method)\n",
    "relative_dists = all_dist(space1=episode_rel_space1, space2=episode_rel_space2, method=dist_method)\n",
    "\n",
    "# Create a subplot with two heatmaps side-by-side\n",
    "fig = sp.make_subplots(\n",
    "    rows=1, cols=2,\n",
    "    subplot_titles=(\"Absolute\", \"Relative\"),\n",
    "    shared_yaxes=True,\n",
    "    horizontal_spacing=0.03,  # Reduced spacing to bring plots closer\n",
    ")\n",
    "\n",
    "# Add Absolute Self-Similarities heatmap\n",
    "fig.add_trace(\n",
    "    go.Heatmap(\n",
    "        z=absolute_dists,\n",
    "        colorscale=\"Viridis\",\n",
    "        zmin=0, zmax=1,\n",
    "        colorbar=dict(\n",
    "            len=1,  # Full height\n",
    "            thickness=15,  # Make the colorbar thinner\n",
    "            # tickvals=[-1, -0.75, -0.5, -0.25, 0, 0.25, 0.5, 0.75, 1],\n",
    "            tickvals=[0, 0.25, 0.5, 0.75, 1],\n",
    "        ),\n",
    "    ),\n",
    "    row=1, col=1,\n",
    ")\n",
    "\n",
    "# Add Relative Self-Similarities heatmap\n",
    "fig.add_trace(\n",
    "    go.Heatmap(\n",
    "        z=relative_dists,\n",
    "        colorscale=\"Viridis\",\n",
    "        zmin=0, zmax=1,\n",
    "        showscale=False,  # Hide individual colorbar\n",
    "    ),\n",
    "    row=1, col=2,\n",
    ")\n",
    "\n",
    "# Update layout for square plots\n",
    "fig.update_layout(\n",
    "    xaxis=dict(scaleanchor=\"y\", constrain=\"domain\"),  # Equal aspect ratio for x and y\n",
    "    xaxis2=dict(scaleanchor=\"y2\", constrain=\"domain\"),\n",
    "    yaxis=dict(scaleanchor=\"x\", constrain=\"domain\"),\n",
    "    width=800,  # Adjust the total width\n",
    "    height=400,  # Adjust the total height for square subplots\n",
    "    margin=dict(l=50, r=50, t=50, b=50),  # Add some margins for aesthetics\n",
    "    yaxis2=dict(\n",
    "        showticklabels=True,\n",
    "        showline=True,\n",
    "        showgrid=False,\n",
    "        zeroline=False,\n",
    "        title=\"\",  # Remove duplicate y-axis title on the right\n",
    "    ),\n",
    ")\n",
    "\n",
    "# Show the figure\n",
    "fig.show()\n",
    "\n",
    "# Save the figure\n",
    "fig.write_image(f\"experiments/plots/{env_id1}_{color1}_{env_id2}_{color2}_abs_rel_heatmap.pdf\")\n"
   ]
  },
  {
   "cell_type": "code",
   "execution_count": null,
   "metadata": {},
   "outputs": [],
   "source": [
    "# plot obs_set_1 and obs_set_2 images in a subplot\n",
    "i = 462\n",
    "j = 277\n",
    "fig, ax = plt.subplots(1, 2)\n",
    "ax[0].imshow(anchors_set_1[i].permute(1, 2, 0))\n",
    "ax[0].set_xticks([])\n",
    "ax[0].set_yticks([])\n",
    "ax[1].imshow(anchors_set_2[j].permute(1, 2, 0))\n",
    "ax[1].set_xticks([])\n",
    "ax[1].set_yticks([])\n",
    "\n",
    "# Adjust the spacing between subplots\n",
    "plt.subplots_adjust(wspace=0.05)\n",
    "\n",
    "# Save the figure\n",
    "# fig.savefig(f\"experiments/plots/obs_{env_id1}_{color1}_{env_id2}_{color2}_{i}-{j}.pdf\", bbox_inches='tight')\n",
    "plt.show()"
   ]
  },
  {
   "cell_type": "code",
   "execution_count": null,
   "metadata": {},
   "outputs": [],
   "source": [
    "plot_latent_space(space1[30:400], space2[30:400], color1, color2, method='PCA', save_fig=True, save_path=f\"experiments/plots/{env_id1}_{color1}_{env_id2}_{color2}_PCA.pdf\")"
   ]
  },
  {
   "cell_type": "code",
   "execution_count": null,
   "metadata": {},
   "outputs": [],
   "source": [
    "plot_latent_space(translated_space1[30:400], space2[30:400], color1, color2, method='PCA', save_fig=True, save_path=f\"experiments/plots/transl_{env_id1}_{color1}_{env_id2}_{color2}_PCA.pdf\")"
   ]
  },
  {
   "cell_type": "code",
   "execution_count": null,
   "metadata": {},
   "outputs": [],
   "source": [
    "plot_latent_space(rel_space1[30:400], rel_space2[30:400], color1, color2, method='PCA', save_fig=True, save_path=f\"experiments/plots/transl_{env_id1}_{color1}_{env_id2}_{color2}_PCA.pdf\")"
   ]
  },
  {
   "cell_type": "code",
   "execution_count": null,
   "metadata": {},
   "outputs": [],
   "source": [
    "plot_latent_space_plotly(space1[30:400], space2[30:400], color1, color2, method='PCA')"
   ]
  },
  {
   "cell_type": "code",
   "execution_count": null,
   "metadata": {},
   "outputs": [],
   "source": [
    "plot_latent_space_plotly(translated_space1[30:400], space2[30:400], color1, color2, method='PCA')"
   ]
  },
  {
   "cell_type": "code",
   "execution_count": null,
   "metadata": {},
   "outputs": [],
   "source": [
    "color3 = \"blue\"\n",
    "enc3_seed = 2\n",
    "obs_path3 = f\"data/anchors/CarRacing-v2/rgb_ppo_transitions_{color3}_obs.pkl\"\n",
    "algo3 = \"ppo\"\n",
    "env_id3 = \"CarRacing-v2\"\n",
    "obs_set_3 = pickle.load(Path(obs_path3).open(\"rb\"))  # [30:2000]\n",
    "obs_set_3 = obs_set_3\n",
    "obs_set_3 = torch.tensor(np.array(obs_set_3), dtype=torch.float32)\n"
   ]
  },
  {
   "cell_type": "code",
   "execution_count": null,
   "metadata": {},
   "outputs": [],
   "source": [
    "space1 = encoder1.forward_single(obs_set_1.to(device)).detach().cpu()\n",
    "space2 = encoder2.forward_single(obs_set_2.to(device)).detach().cpu()\n",
    "\n",
    "space12 = encoder1.forward_single(obs_set_2.to(device)).detach().cpu()\n",
    "space13 = encoder1.forward_single(obs_set_3.to(device)).detach().cpu()\n",
    "\n",
    "\"\"\" USING SPACE12 AS SPACE1 and therefore anchors_space1\"\"\"\n",
    "# num_anchors = 3136  # len(space1_anchors) # 3136\n",
    "space13_anchors, _ = get_anchors(\n",
    "    space13,\n",
    "    space2,\n",
    "    num_anchors,\n",
    "    subset_indices,\n",
    "    anchoring_method,\n",
    "    translation_path,\n",
    "    device,\n",
    ")\n",
    "space2 = space1"
   ]
  },
  {
   "cell_type": "code",
   "execution_count": null,
   "metadata": {},
   "outputs": [],
   "source": [
    "translation = LatentTranslator(\n",
    "    random_seed=42,\n",
    "    estimator=LSTSQEstimator(),\n",
    "    # estimator=SVDEstimator(\n",
    "    #     dim_matcher=ZeroPadding()\n",
    "    # ),  # SGDAffineTranslator(),#SVDEstimator(dim_matcher=ZeroPadding()),\n",
    "    source_transforms=[latentis.transform.StandardScaling()], # [latentis.transform.Centering()], # [latentis.transform.StandardScaling()], #None\n",
    "    target_transforms=[latentis.transform.StandardScaling()], # [latentis.transform.Centering()], # [latentis.transform.StandardScaling()],\n",
    ")\n",
    "\n",
    "space1_anchors = space1_anchors.to(device)  # [:3136]\n",
    "space2_anchors = space2_anchors.to(device)  # [:3136]\n",
    "# space12_anchors = space12_anchors.to(device)  # [:3136]\n",
    "space13_anchors = space13_anchors.to(device)  # [:3136]\n",
    "# space1 = LatentSpace(vectors=space1_anchors, name=\"space1\")\n",
    "# space2 = LatentSpace(vectors=space2_anchors, name=\"space2\")\n",
    "print(\"\\n##############################################\\n\")\n",
    "print(\n",
    "    \"fitting translation layer between space1 and space2 spaces...\"\n",
    ")\n",
    "translation.fit(source_data=space13_anchors, target_data=space1_anchors)\n",
    "\n",
    "\n",
    "space1 = space1[:900]\n",
    "space2 = space2[:900]\n",
    "space12 = space12[:900]\n",
    "space13 = space13[:900]\n",
    "\n",
    "translated_space1 = translation(space13)\n",
    "print(\"Computing avg pairwise distances between space1 and space2...\")\n",
    "print(torch.cdist(space1, space2, p=2).mean())\n",
    "\n",
    "print(\"\\n##############################################\\n\")\n",
    "print(\"Computing avg pairwise distances between translated space1 and space2...\")\n",
    "pairwise_dist_translated = torch.cdist(translated_space1, space2, p=2).mean()\n",
    "print(pairwise_dist_translated)\n",
    "\n",
    "\n",
    "# Assuming obs_set1 and obs_set2 are your two sets of observations\n",
    "# Combine the observations\n",
    "translated_space1 = translated_space1[30:]\n",
    "space2 = space2[30:]\n",
    "all_obs = np.concatenate((translated_space1, space2), axis=0)\n",
    "\n",
    "# Apply PCA for dimensionality reduction\n",
    "pca = PCA(n_components=3)\n",
    "latent_pca = pca.fit_transform(all_obs)\n",
    "\n",
    "# Separate the latent encodings back into two sets\n",
    "latent_pca_set1 = latent_pca[:len(translated_space1)]\n",
    "latent_pca_set2 = latent_pca[len(space2):]\n",
    "\n",
    "# Plot the combined latent space in 3D\n",
    "fig = plt.figure(figsize=(10, 8))\n",
    "ax = fig.add_subplot(111, projection='3d')\n",
    "ax.scatter(latent_pca_set1[:, 0], latent_pca_set1[:, 1], latent_pca_set1[:, 2], label='translated space1', s=10)\n",
    "ax.scatter(latent_pca_set2[:, 0], latent_pca_set2[:, 1], latent_pca_set2[:, 2], label='space2', s=10)\n",
    "ax.set_title('Shared Translated Latent Space Visualization (PCA)')\n",
    "ax.set_xlabel('Principal Component 1')\n",
    "ax.set_ylabel('Principal Component 2')\n",
    "ax.set_zlabel('Principal Component 3')\n",
    "plt.legend()\n",
    "plt.show()"
   ]
  },
  {
   "cell_type": "code",
   "execution_count": null,
   "metadata": {},
   "outputs": [],
   "source": [
    "sample_limit: int = None"
   ]
  },
  {
   "cell_type": "code",
   "execution_count": null,
   "metadata": {},
   "outputs": [],
   "source": [
    "# compute mse between translated_space1 and space2\n",
    "# mse = torch.nn.MSELoss()\n",
    "# mse_loss = mse(translated_space1, space2)\n",
    "# print(f'mse: {mse_loss}')\n",
    "\n",
    "cosine = F.cosine_similarity\n",
    "cosine_sim = cosine(translated_space1, space2).mean()\n",
    "print(f'cosine similarity: {cosine_sim}')"
   ]
  },
  {
   "cell_type": "code",
   "execution_count": null,
   "metadata": {},
   "outputs": [],
   "source": []
  },
  {
   "cell_type": "code",
   "execution_count": null,
   "metadata": {},
   "outputs": [],
   "source": []
  }
 ],
 "metadata": {
  "kernelspec": {
   "display_name": ".venv",
   "language": "python",
   "name": "python3"
  },
  "language_info": {
   "codemirror_mode": {
    "name": "ipython",
    "version": 3
   },
   "file_extension": ".py",
   "mimetype": "text/x-python",
   "name": "python",
   "nbconvert_exporter": "python",
   "pygments_lexer": "ipython3",
   "version": "3.9.18"
  }
 },
 "nbformat": 4,
 "nbformat_minor": 2
}
