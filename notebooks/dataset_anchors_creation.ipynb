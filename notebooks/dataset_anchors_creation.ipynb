{
 "cells": [
  {
   "cell_type": "markdown",
   "metadata": {},
   "source": [
    "Used to stitch different data sources together. The data sources are:\n",
    "carracing standard (green, red, blue), carracing bus (green)"
   ]
  },
  {
   "cell_type": "code",
   "execution_count": 1,
   "metadata": {},
   "outputs": [
    {
     "name": "stdout",
     "output_type": "stream",
     "text": [
      "/Users/antonioricciardi/projects/rl_relrepr_gymnasium/notebooks\n",
      "/Users/antonioricciardi/projects/rl_relrepr_gymnasium\n"
     ]
    }
   ],
   "source": [
    "import pickle\n",
    "import os\n",
    "\n",
    "print(os.path.abspath(os.curdir))\n",
    "os.chdir(\"..\")\n",
    "print(os.path.abspath(os.curdir))"
   ]
  },
  {
   "cell_type": "code",
   "execution_count": 2,
   "metadata": {},
   "outputs": [],
   "source": [
    "sources = [\"data/anchors/CarRacing-v2/rgb_ppo_transitions_green_obs.pkl\", \"data/anchors/CarRacing-v2/rgb_ppo_transitions_red_obs.pkl\", \"data/anchors/CarRacing-v2-bus/rgb_ppo_transitions_green_obs.pkl\", \"data/anchors/CarRacing-v2-tuktuk/rgb_ppo_transitions_green_obs.pkl\"]"
   ]
  },
  {
   "cell_type": "code",
   "execution_count": 3,
   "metadata": {},
   "outputs": [
    {
     "name": "stdout",
     "output_type": "stream",
     "text": [
      "/Users/antonioricciardi/projects/rl_relrepr_gymnasium\n"
     ]
    }
   ],
   "source": [
    "# print working directory\n",
    "print(os.getcwd())"
   ]
  },
  {
   "cell_type": "code",
   "execution_count": 4,
   "metadata": {},
   "outputs": [],
   "source": [
    "data0 = pickle.load(open(sources[0], \"rb\"))\n",
    "data1 = pickle.load(open(sources[1], \"rb\"))\n",
    "data2 = pickle.load(open(sources[2], \"rb\"))\n",
    "data3 = pickle.load(open(sources[3], \"rb\"))"
   ]
  },
  {
   "cell_type": "code",
   "execution_count": 5,
   "metadata": {},
   "outputs": [
    {
     "data": {
      "image/png": "[encoded data removed]",
      "text/plain": [
       "<Figure size 640x480 with 1 Axes>"
      ]
     },
     "metadata": {},
     "output_type": "display_data"
    }
   ],
   "source": [
    "# plot ith element of data0\n",
    "import matplotlib.pyplot as plt\n",
    "import numpy as np\n",
    "import cv2\n",
    "\n",
    "i = 222\n",
    "obs = data3[i]\n",
    "plt.imshow(obs.transpose(1, 2, 0))\n",
    "plt.show()"
   ]
  },
  {
   "cell_type": "code",
   "execution_count": 6,
   "metadata": {},
   "outputs": [],
   "source": [
    "# join data0 and data1, 2000 elements for each, totalling 4000\n",
    "data = data0[:1000] + data1[:2000] + data2[:1000] + data3[:1000]"
   ]
  },
  {
   "cell_type": "code",
   "execution_count": 7,
   "metadata": {},
   "outputs": [],
   "source": [
    "os.makedirs(\"data/anchors/CarRacing-v2-unified\", exist_ok=True)"
   ]
  },
  {
   "cell_type": "code",
   "execution_count": 8,
   "metadata": {},
   "outputs": [],
   "source": [
    "# save the joined data\n",
    "pickle.dump(data, open(\"data/anchors/CarRacing-v2-unified/rgb_ppo_transitions_red_green_bus_tuktuk_obs.pkl\", \"wb\"))"
   ]
  },
  {
   "cell_type": "markdown",
   "metadata": {},
   "source": [
    "# Dataset augmentation"
   ]
  },
  {
   "cell_type": "code",
   "execution_count": 9,
   "metadata": {},
   "outputs": [],
   "source": [
    "# load lunar lander data\n",
    "data = pickle.load(open(\"data/anchors/LunarLanderRGB/rgb_ppo_transitions_white_obs.pkl\", \"rb\"))"
   ]
  },
  {
   "cell_type": "code",
   "execution_count": 10,
   "metadata": {},
   "outputs": [
    {
     "data": {
      "image/png": "[encoded data removed]",
      "text/plain": [
       "<Figure size 640x480 with 1 Axes>"
      ]
     },
     "metadata": {},
     "output_type": "display_data"
    }
   ],
   "source": [
    "# plot example data\n",
    "i = 800\n",
    "obs = data[i]\n",
    "plt.imshow(obs.transpose(1, 2, 0))\n",
    "plt.show()\n"
   ]
  },
  {
   "cell_type": "code",
   "execution_count": 11,
   "metadata": {},
   "outputs": [],
   "source": [
    "import albumentations as A\n",
    "import random \n",
    "def get_albumentations_transform():\n",
    "    \"\"\"\n",
    "    Define the augmentation pipeline using Albumentations.\n",
    "    \n",
    "    Returns:\n",
    "        A.Compose: Albumentations compose object with defined augmentations.\n",
    "    \"\"\"\n",
    "    transform = A.Compose([\n",
    "        A.HorizontalFlip(p=0.5),\n",
    "        A.VerticalFlip(p=0.5),\n",
    "        A.Rotate(limit=30, p=0.5),  # Rotate between -30 and +30 degrees\n",
    "        A.ShiftScaleRotate(shift_limit=0.05, scale_limit=0, rotate_limit=0, p=0.5),\n",
    "        # A.RandomTranspose(p=0.3),\n",
    "        A.RandomCrop(width=63, height=63, p=0.3),\n",
    "        A.Resize(width=84, height=84, p=1.0),  # Resize back to original size\n",
    "    ], p=0.8)  # Overall probability to apply the transformations\n",
    "    return transform"
   ]
  },
  {
   "cell_type": "code",
   "execution_count": 12,
   "metadata": {},
   "outputs": [],
   "source": [
    "def augment_with_albumentations(dataset):\n",
    "    \"\"\"\n",
    "    Perform data augmentation using Albumentations.\n",
    "    \n",
    "    Args:\n",
    "        dataset (list of np.ndarray): List of images with shape (3, 84, 84).\n",
    "        \n",
    "    Returns:\n",
    "        list of np.ndarray: List of augmented images with shape (3, 84, 84).\n",
    "    \"\"\"\n",
    "    transform = get_albumentations_transform()\n",
    "    augmented_dataset = []\n",
    "    \n",
    "    for idx, image in enumerate(dataset):\n",
    "        # Convert image to (84, 84, 3)\n",
    "        img = np.transpose(image, (1, 2, 0))\n",
    "        \n",
    "        # Apply transformations with probability\n",
    "        if random.random() < 0.8:  # 80% chance to apply augmentations\n",
    "            augmented = transform(image=img)['image']\n",
    "            augmented = (augmented * 255).astype(np.uint8)  # Convert back to uint8\n",
    "        else:\n",
    "            augmented = img  # No augmentation\n",
    "        \n",
    "        # Convert back to (3, 84, 84)\n",
    "        augmented = np.transpose(augmented, (2, 0, 1))\n",
    "        augmented_dataset.append(augmented)\n",
    "        \n",
    "        # Optional: Print progress\n",
    "        if (idx + 1) % 100 == 0:\n",
    "            print(f\"Augmented {idx + 1} images with Albumentations\")\n",
    "    \n",
    "    return augmented_dataset"
   ]
  },
  {
   "cell_type": "code",
   "execution_count": 13,
   "metadata": {},
   "outputs": [
    {
     "name": "stderr",
     "output_type": "stream",
     "text": [
      "/Users/antonioricciardi/projects/rl_relrepr_gymnasium/.venv/lib/python3.9/site-packages/albumentations/core/validation.py:45: UserWarning: ShiftScaleRotate is a special case of Affine transform. Please use Affine transform instead.\n",
      "  original_init(self, **validated_kwargs)\n"
     ]
    },
    {
     "name": "stdout",
     "output_type": "stream",
     "text": [
      "Augmented 100 images with Albumentations\n",
      "Augmented 200 images with Albumentations\n",
      "Augmented 300 images with Albumentations\n",
      "Augmented 400 images with Albumentations\n",
      "Augmented 500 images with Albumentations\n",
      "Augmented 600 images with Albumentations\n",
      "Augmented 700 images with Albumentations\n",
      "Augmented 800 images with Albumentations\n",
      "Augmented 900 images with Albumentations\n",
      "Augmented 1000 images with Albumentations\n",
      "Augmented 1100 images with Albumentations\n",
      "Augmented 1200 images with Albumentations\n",
      "Augmented 1300 images with Albumentations\n",
      "Augmented 1400 images with Albumentations\n",
      "Augmented 1500 images with Albumentations\n",
      "Augmented 1600 images with Albumentations\n",
      "Augmented 1700 images with Albumentations\n",
      "Augmented 1800 images with Albumentations\n",
      "Augmented 1900 images with Albumentations\n",
      "Augmented 2000 images with Albumentations\n",
      "Augmented 2100 images with Albumentations\n",
      "Augmented 2200 images with Albumentations\n",
      "Augmented 2300 images with Albumentations\n",
      "Augmented 2400 images with Albumentations\n",
      "Augmented 2500 images with Albumentations\n",
      "Augmented 2600 images with Albumentations\n",
      "Augmented 2700 images with Albumentations\n",
      "Augmented 2800 images with Albumentations\n",
      "Augmented 2900 images with Albumentations\n",
      "Augmented 3000 images with Albumentations\n",
      "Augmented 3100 images with Albumentations\n",
      "Augmented 3200 images with Albumentations\n",
      "Augmented 3300 images with Albumentations\n",
      "Augmented 3400 images with Albumentations\n",
      "Augmented 3500 images with Albumentations\n",
      "Augmented 3600 images with Albumentations\n",
      "Augmented 3700 images with Albumentations\n",
      "Augmented 3800 images with Albumentations\n",
      "Augmented 3900 images with Albumentations\n",
      "Augmented 4000 images with Albumentations\n",
      "Original dataset size: 4000\n",
      "Augmented dataset size with Albumentations: 4000\n"
     ]
    }
   ],
   "source": [
    "augmented_dataset_alb = augment_with_albumentations(data)\n",
    "\n",
    "print(f\"Original dataset size: {len(data)}\")\n",
    "print(f\"Augmented dataset size with Albumentations: {len(augmented_dataset_alb)}\")"
   ]
  },
  {
   "cell_type": "code",
   "execution_count": 14,
   "metadata": {},
   "outputs": [
    {
     "data": {
      "text/plain": [
       "(3, 84, 84)"
      ]
     },
     "execution_count": 14,
     "metadata": {},
     "output_type": "execute_result"
    }
   ],
   "source": [
    "augmented_dataset_alb[0].shape"
   ]
  },
  {
   "cell_type": "code",
   "execution_count": 15,
   "metadata": {},
   "outputs": [
    {
     "data": {
      "image/png": "[encoded data removed]",
      "text/plain": [
       "<Figure size 640x480 with 1 Axes>"
      ]
     },
     "metadata": {},
     "output_type": "display_data"
    }
   ],
   "source": [
    "# plot example augmented data\n",
    "i = 50\n",
    "obs = augmented_dataset_alb[i]\n",
    "plt.imshow(obs.transpose(1, 2, 0))\n",
    "plt.show()"
   ]
  },
  {
   "cell_type": "code",
   "execution_count": 16,
   "metadata": {},
   "outputs": [],
   "source": [
    "# save augmented data\n",
    "pickle.dump(augmented_dataset_alb, open(\"data/anchors/LunarLanderRGB/rgb_ppo_transitions_white_obs_augmented.pkl\", \"wb\"))"
   ]
  },
  {
   "cell_type": "code",
   "execution_count": null,
   "metadata": {},
   "outputs": [],
   "source": []
  }
 ],
 "metadata": {
  "kernelspec": {
   "display_name": ".venv",
   "language": "python",
   "name": "python3"
  },
  "language_info": {
   "codemirror_mode": {
    "name": "ipython",
    "version": 3
   },
   "file_extension": ".py",
   "mimetype": "text/x-python",
   "name": "python",
   "nbconvert_exporter": "python",
   "pygments_lexer": "ipython3",
   "version": "3.9.18"
  }
 },
 "nbformat": 4,
 "nbformat_minor": 2
}
