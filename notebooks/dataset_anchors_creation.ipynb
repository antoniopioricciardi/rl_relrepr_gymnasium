{
 "cells": [
  {
   "cell_type": "markdown",
   "metadata": {},
   "source": [
    "Used to stitch different data sources together. The data sources are:\n",
    "carracing standard (green, red, blue), carracing bus (green)"
   ]
  },
  {
   "cell_type": "code",
   "execution_count": 1,
   "metadata": {},
   "outputs": [
    {
     "name": "stdout",
     "output_type": "stream",
     "text": [
      "/Users/antonioricciardi/projects/rl_relrepr_gymnasium/notebooks\n",
      "/Users/antonioricciardi/projects/rl_relrepr_gymnasium\n"
     ]
    }
   ],
   "source": [
    "import pickle\n",
    "import os\n",
    "\n",
    "print(os.path.abspath(os.curdir))\n",
    "os.chdir(\"..\")\n",
    "print(os.path.abspath(os.curdir))"
   ]
  },
  {
   "cell_type": "code",
   "execution_count": 2,
   "metadata": {},
   "outputs": [],
   "source": [
    "sources = [\"data/anchors/CarRacing-v2/rgb_ppo_transitions_green_obs.pkl\", \"data/anchors/CarRacing-v2/rgb_ppo_transitions_red_obs.pkl\", \"data/anchors/CarRacing-v2-bus/rgb_ppo_transitions_green_obs.pkl\", \"data/anchors/CarRacing-v2-tuktuk/rgb_ppo_transitions_green_obs.pkl\"]"
   ]
  },
  {
   "cell_type": "code",
   "execution_count": 3,
   "metadata": {},
   "outputs": [
    {
     "name": "stdout",
     "output_type": "stream",
     "text": [
      "/Users/antonioricciardi/projects/rl_relrepr_gymnasium\n"
     ]
    }
   ],
   "source": [
    "# print working directory\n",
    "print(os.getcwd())"
   ]
  },
  {
   "cell_type": "code",
   "execution_count": 4,
   "metadata": {},
   "outputs": [],
   "source": [
    "data0 = pickle.load(open(sources[0], \"rb\"))\n",
    "data1 = pickle.load(open(sources[1], \"rb\"))\n",
    "data2 = pickle.load(open(sources[2], \"rb\"))\n",
    "data3 = pickle.load(open(sources[3], \"rb\"))"
   ]
  },
  {
   "cell_type": "code",
   "execution_count": 5,
   "metadata": {},
   "outputs": [
    {
     "data": {
      "image/png": "[encoded data removed]",
      "text/plain": [
       "<Figure size 640x480 with 1 Axes>"
      ]
     },
     "metadata": {},
     "output_type": "display_data"
    }
   ],
   "source": [
    "# plot ith element of data0\n",
    "import matplotlib.pyplot as plt\n",
    "import numpy as np\n",
    "import cv2\n",
    "\n",
    "i = 222\n",
    "obs = data3[i]\n",
    "plt.imshow(obs.transpose(1, 2, 0))\n",
    "plt.show()"
   ]
  },
  {
   "cell_type": "code",
   "execution_count": 6,
   "metadata": {},
   "outputs": [],
   "source": [
    "# join data0 and data1, 2000 elements for each, totalling 4000\n",
    "data = data0[:1000] + data1[:2000] + data2[:1000] + data3[:1000]"
   ]
  },
  {
   "cell_type": "code",
   "execution_count": 7,
   "metadata": {},
   "outputs": [],
   "source": [
    "os.makedirs(\"data/anchors/CarRacing-v2-unified\", exist_ok=True)"
   ]
  },
  {
   "cell_type": "code",
   "execution_count": 8,
   "metadata": {},
   "outputs": [],
   "source": [
    "# save the joined data\n",
    "pickle.dump(data, open(\"data/anchors/CarRacing-v2-unified/rgb_ppo_transitions_red_green_bus_tuktuk_obs.pkl\", \"wb\"))"
   ]
  },
  {
   "cell_type": "code",
   "execution_count": null,
   "metadata": {},
   "outputs": [],
   "source": []
  }
 ],
 "metadata": {
  "kernelspec": {
   "display_name": ".venv",
   "language": "python",
   "name": "python3"
  },
  "language_info": {
   "codemirror_mode": {
    "name": "ipython",
    "version": 3
   },
   "file_extension": ".py",
   "mimetype": "text/x-python",
   "name": "python",
   "nbconvert_exporter": "python",
   "pygments_lexer": "ipython3",
   "version": "3.9.18"
  }
 },
 "nbformat": 4,
 "nbformat_minor": 2
}
