{
 "cells": [
  {
   "cell_type": "code",
   "execution_count": 1,
   "metadata": {},
   "outputs": [
    {
     "name": "stdout",
     "output_type": "stream",
     "text": [
      "/Users/antonioricciardi/projects/rl_relrepr_gymnasium/notebooks\n",
      "/Users/antonioricciardi/projects/rl_relrepr_gymnasium\n",
      "0.0.7\n"
     ]
    }
   ],
   "source": [
    "import os\n",
    "import itertools\n",
    "import random\n",
    "from typing import Sequence\n",
    "\n",
    "import matplotlib.pyplot as plt\n",
    "from plotly.subplots import make_subplots\n",
    "import plotly.graph_objects as go\n",
    "import seaborn as sns\n",
    "from mpl_toolkits.mplot3d import Axes3D  # Ensure 3D plotting is available\n",
    "import torch\n",
    "from pathlib import Path\n",
    "from pytorch_lightning import seed_everything\n",
    "from torch.nn import functional as F\n",
    "import numpy as np\n",
    "\n",
    "\n",
    "\n",
    "\n",
    "try:\n",
    "    # be ready for 3.10 when it drops\n",
    "    from enum import StrEnum\n",
    "except ImportError:\n",
    "    from backports.strenum import StrEnum\n",
    "from enum import auto\n",
    "\n",
    "# from nn_core.common import PROJECT_ROOT\n",
    "import pickle\n",
    "\n",
    "print(os.path.abspath(os.curdir))\n",
    "os.chdir(\"..\")\n",
    "print(os.path.abspath(os.curdir))\n",
    "from src.zeroshotrl.rl_agents.ppo.ppo_end_to_end_relu_stack_align import FeatureExtractor\n",
    "# from src.zeroshotrl.rl_agents.ppo.ppo_end_to_end_relu_stack_align_hidden import Policy\n",
    "from src.zeroshotrl.utils.relative import *\n",
    "from src.zeroshotrl.utils.notebooks import *\n",
    "\n",
    "import latentis\n",
    "\n",
    "print(latentis.__version__)\n",
    "\n",
    "# Relative stuff\n",
    "from latentis.space import LatentSpace\n",
    "from latentis.project import RelativeProjector\n",
    "from latentis.project import relative\n",
    "from latentis.transform import Centering, StandardScaling\n",
    "\n",
    "# from latentis.transform.base import StandardScaling, Centering\n",
    "# from latentis.transform.dim_matcher import ZeroPadding\n",
    "# from latentis.transform.translate.aligner import MatrixAligner, Translator\n",
    "# from latentis.transform.translate.functional import (\n",
    "#     svd_align_state,\n",
    "# )\n",
    "\n",
    "\n",
    "from sklearn.decomposition import PCA\n",
    "from sklearn.manifold import TSNE\n",
    "\n",
    "try:\n",
    "    # be ready for 3.10 when it drops\n",
    "    from enum import StrEnum\n",
    "except ImportError:\n",
    "    from backports.strenum import StrEnum\n",
    "from enum import auto\n",
    "\n",
    "from zeroshotrl.utils.relative import *\n",
    "from zeroshotrl.utils.notebooks import *"
   ]
  },
  {
   "cell_type": "code",
   "execution_count": 2,
   "metadata": {},
   "outputs": [],
   "source": [
    "\n",
    "anchors_env_id1 = \"LunarLanderRGB\" # \"MiniWorld-OneRoom-v0\" # \"CarRacing-v2\" # \"LunarLanderRGB\"\n",
    "anchors_env_id2 = \"LunarLanderRGB\" # \"MiniWorld-OneRoom-v0\" # \"CarRacing-v2\" # \"LunarLanderRGB\"\n",
    "obs_env_id1 = \"LunarLanderRGB\" # \"MiniWorld-OneRoom-v0\" # \"CarRacing-v2\" #\"LunarLanderRGB\"\n",
    "obs_env_id2 = \"LunarLanderRGB-3\" # \"MiniWorld-OneRoom-v0\" # \"CarRacing-v2\" # \"LunarLanderRGB\"\n",
    "\n",
    "anchors_color1 = \"red\" # \"standard\"\n",
    "anchors_color2 = \"white\" # \"standard\"\n",
    "\n",
    "color1 = \"red\" # \"standard\"\n",
    "color2 = \"white\" # \"standard\"\n",
    "\n",
    "layers_list = ['enc', 'pol']\n",
    "layer_to_use = layers_list[0]\n",
    "\n",
    "enc1_seed = 1\n",
    "enc2_seed = 1\n",
    "\n",
    "anchors_path1 = f\"data/anchors/{anchors_env_id1}/rgb_ppo_transitions_{anchors_color1}_obs.pkl\"\n",
    "anchors_path2 = f\"data/anchors/{anchors_env_id2}/rgb_ppo_transitions_{anchors_color2}_obs.pkl\"\n",
    "obs_path1 = f\"data/anchors/{obs_env_id1}/rgb_ppo_transitions_{color1}_obs.pkl\"\n",
    "obs_path2 = f\"data/anchors/{obs_env_id2}/rgb_ppo_transitions_{color2}_obs.pkl\"\n",
    "\n",
    "\n",
    "algo1 = \"ppo\"\n",
    "algo2 = \"ppo\"\n",
    "env_id1 = obs_env_id1# \"CarRacing-v2\"\n",
    "env_id2 = obs_env_id2# \"CarRacing-v2-bus\"\n",
    "device = torch.device(\"cuda\" if torch.cuda.is_available() else \"cpu\")\n",
    "\n",
    "enc1_path = f\"models/{env_id1}/rgb/{color1}/{algo1}/absolute/relu/seed_{enc1_seed}/encoder.pt\"\n",
    "enc2_path = f\"models/{env_id2}/rgb/{color2}/{algo2}/absolute/relu/seed_{enc2_seed}/encoder.pt\"\n",
    "encoder1_dict = torch.load(\n",
    "    enc1_path,\n",
    "    map_location=device,\n",
    ")\n",
    "encoder2_dict = torch.load(\n",
    "    enc2_path,\n",
    "    map_location=device,\n",
    ")"
   ]
  },
  {
   "cell_type": "code",
   "execution_count": 3,
   "metadata": {},
   "outputs": [
    {
     "data": {
      "text/plain": [
       "<All keys matched successfully>"
      ]
     },
     "execution_count": 3,
     "metadata": {},
     "output_type": "execute_result"
    }
   ],
   "source": [
    "encoder1 = FeatureExtractor()\n",
    "encoder2 = FeatureExtractor()\n",
    "encoder1.load_state_dict(encoder1_dict)\n",
    "encoder2.load_state_dict(encoder2_dict)"
   ]
  },
  {
   "cell_type": "code",
   "execution_count": 4,
   "metadata": {},
   "outputs": [
    {
     "name": "stdout",
     "output_type": "stream",
     "text": [
      "\n",
      "#####\n",
      "Obs loaded\n",
      "#####\n",
      "\n",
      "Converting obs to torch tensor\n",
      "Done converting obs to torch tensor\n",
      "#####\n",
      "\n"
     ]
    }
   ],
   "source": [
    "device = torch.device(\"cuda\" if torch.cuda.is_available() else \"cpu\")\n",
    "encoder1.to(device)\n",
    "encoder2.to(device)\n",
    "\n",
    "\n",
    "obs_set_1 = pickle.load(Path(obs_path1).open(\"rb\"))  # [30:2000]\n",
    "obs_set_2 = pickle.load(Path(anchors_path2).open(\"rb\"))  # [30:2000]\n",
    "print(\"\\n#####\\nObs loaded\\n#####\\n\")\n",
    "\n",
    "anchors_set_1 = pickle.load(Path(anchors_path1).open(\"rb\"))\n",
    "anchors_set_2 = pickle.load(Path(anchors_path2).open(\"rb\"))\n",
    "anchors_set_1 = torch.tensor(np.array(anchors_set_1), dtype=torch.float32)\n",
    "anchors_set_2 = torch.tensor(np.array(anchors_set_2), dtype=torch.float32)\n",
    "# subset_indices = np.random.randint(0, len(obs_set_1), 5000)\n",
    "obs_set_1 = obs_set_1\n",
    "obs_set_2 = obs_set_2\n",
    "\n",
    "print(\"Converting obs to torch tensor\")\n",
    "# convert the (4000, 3, 84, 84) numpy array to a torch tensor\n",
    "obs_set_1 = torch.tensor(np.array(obs_set_1), dtype=torch.float32)\n",
    "obs_set_2 = torch.tensor(np.array(obs_set_2), dtype=torch.float32)\n",
    "print(\"Done converting obs to torch tensor\\n#####\\n\")\n",
    "\n",
    "# obs_set_1 = torch.cat([obs_set_1, obs_set_2], dim=0)  # [anch_indices\n",
    "# obs_set_2 = obs_set_1\n",
    "\n",
    "# obs_set_1 = torch.cat(obs_set_1, dim=0).cpu()  # [anch_indices]\n",
    "# obs_set_2 = torch.cat(obs_set_2, dim=0).cpu()  # [anch_indices]\n",
    "space1 = encoder1.forward_single(obs_set_1[:900].to(device))#.detach().cpu()\n",
    "space2 = encoder2.forward_single(obs_set_2[:900].to(device))#.detach().cpu()"
   ]
  },
  {
   "cell_type": "code",
   "execution_count": 32,
   "metadata": {},
   "outputs": [
    {
     "data": {
      "image/png": "[encoded data removed]",
      "text/plain": [
       "<Figure size 640x480 with 1 Axes>"
      ]
     },
     "metadata": {},
     "output_type": "display_data"
    }
   ],
   "source": [
    "# plot obs_set_1 and obs_set_2 images in a subplot\n",
    "i = 610\n",
    "fig, ax = plt.subplots(1, 1)\n",
    "ax.imshow(anchors_set_2[i].permute(1, 2, 0))\n",
    "plt.axis('off')\n",
    "plt.show()\n",
    "\n",
    "# save image to file as pdf\n",
    "fig.savefig(\"experiments/plots/lunar_frame_{i}.pdf\", bbox_inches='tight')"
   ]
  },
  {
   "cell_type": "code",
   "execution_count": null,
   "metadata": {},
   "outputs": [
    {
     "data": {
      "image/png": "[encoded data removed]",
      "text/plain": [
       "<Figure size 2000x500 with 4 Axes>"
      ]
     },
     "metadata": {},
     "output_type": "display_data"
    }
   ],
   "source": [
    "# plot obs_set_1 and obs_set_2 images in a subplot\n",
    "i = [590, 600, 610, 620]\n",
    "fig, ax = plt.subplots(1, len(i), figsize=(20, 5))  # Adjust figsize as needed\n",
    "for j, idx in enumerate(i):\n",
    "    ax[j].imshow(anchors_set_2[idx].permute(1, 2, 0))\n",
    "    ax[j].axis('off')\n",
    "plt.show()\n"
   ]
  },
  {
   "cell_type": "code",
   "execution_count": 57,
   "metadata": {},
   "outputs": [
    {
     "data": {
      "image/png": "[encoded data removed]",
      "text/plain": [
       "<Figure size 2000x500 with 4 Axes>"
      ]
     },
     "metadata": {},
     "output_type": "display_data"
    }
   ],
   "source": [
    "import matplotlib.pyplot as plt\n",
    "\n",
    "i = [30, 40, 50, 60]\n",
    "fig, ax = plt.subplots(1, len(i), figsize=(20, 5))  # Adjust figsize as needed\n",
    "\n",
    "for j, idx in enumerate(i):\n",
    "    ax[j].imshow(anchors_set_2[idx].permute(1, 2, 0))\n",
    "    ax[j].axis('off')\n",
    "\n",
    "plt.subplots_adjust(wspace=0.02, hspace=0)  # Minimize spacing\n",
    "plt.show()\n",
    "\n",
    "# save image to file as pdf\n",
    "fig.savefig(\"experiments/plots/lunar_frames_rand.pdf\", bbox_inches='tight')"
   ]
  },
  {
   "cell_type": "code",
   "execution_count": null,
   "metadata": {},
   "outputs": [],
   "source": []
  }
 ],
 "metadata": {
  "kernelspec": {
   "display_name": ".venv",
   "language": "python",
   "name": "python3"
  },
  "language_info": {
   "codemirror_mode": {
    "name": "ipython",
    "version": 3
   },
   "file_extension": ".py",
   "mimetype": "text/x-python",
   "name": "python",
   "nbconvert_exporter": "python",
   "pygments_lexer": "ipython3",
   "version": "3.9.18"
  }
 },
 "nbformat": 4,
 "nbformat_minor": 2
}
