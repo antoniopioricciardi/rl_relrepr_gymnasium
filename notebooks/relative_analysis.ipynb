{
 "cells": [
  {
   "cell_type": "code",
   "execution_count": null,
   "metadata": {},
   "outputs": [],
   "source": [
    "# !pip install tueplots\n",
    "# !pip install backports.strenum\n",
    "# !pip install nncore"
   ]
  },
  {
   "cell_type": "code",
   "execution_count": 1,
   "metadata": {},
   "outputs": [
    {
     "name": "stderr",
     "output_type": "stream",
     "text": [
      "\n",
      "A module that was compiled using NumPy 1.x cannot be run in\n",
      "NumPy 2.0.1 as it may crash. To support both 1.x and 2.x\n",
      "versions of NumPy, modules must be compiled with NumPy 2.0.\n",
      "Some module may need to rebuild instead e.g. with 'pybind11>=2.12'.\n",
      "\n",
      "If you are a user of the module, the easiest solution will be to\n",
      "downgrade to 'numpy<2' or try to upgrade the affected module.\n",
      "We expect that some modules will need time to support NumPy 2.\n",
      "\n",
      "Traceback (most recent call last):  File \"/Users/antonioricciardi/opt/anaconda3/envs/relative_rl/lib/python3.9/runpy.py\", line 197, in _run_module_as_main\n",
      "    return _run_code(code, main_globals, None,\n",
      "  File \"/Users/antonioricciardi/opt/anaconda3/envs/relative_rl/lib/python3.9/runpy.py\", line 87, in _run_code\n",
      "    exec(code, run_globals)\n",
      "  File \"/Users/antonioricciardi/opt/anaconda3/envs/relative_rl/lib/python3.9/site-packages/ipykernel_launcher.py\", line 17, in <module>\n",
      "    app.launch_new_instance()\n",
      "  File \"/Users/antonioricciardi/opt/anaconda3/envs/relative_rl/lib/python3.9/site-packages/traitlets/config/application.py\", line 1046, in launch_instance\n",
      "    app.start()\n",
      "  File \"/Users/antonioricciardi/opt/anaconda3/envs/relative_rl/lib/python3.9/site-packages/ipykernel/kernelapp.py\", line 736, in start\n",
      "    self.io_loop.start()\n",
      "  File \"/Users/antonioricciardi/opt/anaconda3/envs/relative_rl/lib/python3.9/site-packages/tornado/platform/asyncio.py\", line 195, in start\n",
      "    self.asyncio_loop.run_forever()\n",
      "  File \"/Users/antonioricciardi/opt/anaconda3/envs/relative_rl/lib/python3.9/asyncio/base_events.py\", line 601, in run_forever\n",
      "    self._run_once()\n",
      "  File \"/Users/antonioricciardi/opt/anaconda3/envs/relative_rl/lib/python3.9/asyncio/base_events.py\", line 1905, in _run_once\n",
      "    handle._run()\n",
      "  File \"/Users/antonioricciardi/opt/anaconda3/envs/relative_rl/lib/python3.9/asyncio/events.py\", line 80, in _run\n",
      "    self._context.run(self._callback, *self._args)\n",
      "  File \"/Users/antonioricciardi/opt/anaconda3/envs/relative_rl/lib/python3.9/site-packages/ipykernel/kernelbase.py\", line 516, in dispatch_queue\n",
      "    await self.process_one()\n",
      "  File \"/Users/antonioricciardi/opt/anaconda3/envs/relative_rl/lib/python3.9/site-packages/ipykernel/kernelbase.py\", line 505, in process_one\n",
      "    await dispatch(*args)\n",
      "  File \"/Users/antonioricciardi/opt/anaconda3/envs/relative_rl/lib/python3.9/site-packages/ipykernel/kernelbase.py\", line 412, in dispatch_shell\n",
      "    await result\n",
      "  File \"/Users/antonioricciardi/opt/anaconda3/envs/relative_rl/lib/python3.9/site-packages/ipykernel/kernelbase.py\", line 740, in execute_request\n",
      "    reply_content = await reply_content\n",
      "  File \"/Users/antonioricciardi/opt/anaconda3/envs/relative_rl/lib/python3.9/site-packages/ipykernel/ipkernel.py\", line 422, in do_execute\n",
      "    res = shell.run_cell(\n",
      "  File \"/Users/antonioricciardi/opt/anaconda3/envs/relative_rl/lib/python3.9/site-packages/ipykernel/zmqshell.py\", line 546, in run_cell\n",
      "    return super().run_cell(*args, **kwargs)\n",
      "  File \"/Users/antonioricciardi/opt/anaconda3/envs/relative_rl/lib/python3.9/site-packages/IPython/core/interactiveshell.py\", line 3024, in run_cell\n",
      "    result = self._run_cell(\n",
      "  File \"/Users/antonioricciardi/opt/anaconda3/envs/relative_rl/lib/python3.9/site-packages/IPython/core/interactiveshell.py\", line 3079, in _run_cell\n",
      "    result = runner(coro)\n",
      "  File \"/Users/antonioricciardi/opt/anaconda3/envs/relative_rl/lib/python3.9/site-packages/IPython/core/async_helpers.py\", line 129, in _pseudo_sync_runner\n",
      "    coro.send(None)\n",
      "  File \"/Users/antonioricciardi/opt/anaconda3/envs/relative_rl/lib/python3.9/site-packages/IPython/core/interactiveshell.py\", line 3284, in run_cell_async\n",
      "    has_raised = await self.run_ast_nodes(code_ast.body, cell_name,\n",
      "  File \"/Users/antonioricciardi/opt/anaconda3/envs/relative_rl/lib/python3.9/site-packages/IPython/core/interactiveshell.py\", line 3466, in run_ast_nodes\n",
      "    if await self.run_code(code, result, async_=asy):\n",
      "  File \"/Users/antonioricciardi/opt/anaconda3/envs/relative_rl/lib/python3.9/site-packages/IPython/core/interactiveshell.py\", line 3526, in run_code\n",
      "    exec(code_obj, self.user_global_ns, self.user_ns)\n",
      "  File \"/var/folders/qk/b7b3_k9j55jd9gm10z0chm3m0000gn/T/ipykernel_54358/1716266874.py\", line 6, in <module>\n",
      "    import matplotlib.pyplot as plt\n",
      "  File \"/Users/antonioricciardi/opt/anaconda3/envs/relative_rl/lib/python3.9/site-packages/matplotlib/__init__.py\", line 109, in <module>\n",
      "    from . import _api, _version, cbook, docstring, rcsetup\n",
      "  File \"/Users/antonioricciardi/opt/anaconda3/envs/relative_rl/lib/python3.9/site-packages/matplotlib/rcsetup.py\", line 27, in <module>\n",
      "    from matplotlib.colors import Colormap, is_color_like\n",
      "  File \"/Users/antonioricciardi/opt/anaconda3/envs/relative_rl/lib/python3.9/site-packages/matplotlib/colors.py\", line 56, in <module>\n",
      "    from matplotlib import _api, cbook, scale\n",
      "  File \"/Users/antonioricciardi/opt/anaconda3/envs/relative_rl/lib/python3.9/site-packages/matplotlib/scale.py\", line 23, in <module>\n",
      "    from matplotlib.ticker import (\n",
      "  File \"/Users/antonioricciardi/opt/anaconda3/envs/relative_rl/lib/python3.9/site-packages/matplotlib/ticker.py\", line 136, in <module>\n",
      "    from matplotlib import transforms as mtransforms\n",
      "  File \"/Users/antonioricciardi/opt/anaconda3/envs/relative_rl/lib/python3.9/site-packages/matplotlib/transforms.py\", line 46, in <module>\n",
      "    from matplotlib._path import (\n"
     ]
    },
    {
     "ename": "AttributeError",
     "evalue": "_ARRAY_API not found",
     "output_type": "error",
     "traceback": [
      "\u001b[0;31m---------------------------------------------------------------------------\u001b[0m",
      "\u001b[0;31mAttributeError\u001b[0m                            Traceback (most recent call last)",
      "\u001b[0;31mAttributeError\u001b[0m: _ARRAY_API not found"
     ]
    },
    {
     "ename": "ImportError",
     "evalue": "numpy.core.multiarray failed to import",
     "output_type": "error",
     "traceback": [
      "\u001b[0;31m---------------------------------------------------------------------------\u001b[0m",
      "\u001b[0;31mImportError\u001b[0m                               Traceback (most recent call last)",
      "Cell \u001b[0;32mIn[1], line 6\u001b[0m\n\u001b[1;32m      3\u001b[0m \u001b[38;5;28;01mimport\u001b[39;00m \u001b[38;5;21;01mrandom\u001b[39;00m\n\u001b[1;32m      4\u001b[0m \u001b[38;5;28;01mfrom\u001b[39;00m \u001b[38;5;21;01mtyping\u001b[39;00m \u001b[38;5;28;01mimport\u001b[39;00m Sequence\n\u001b[0;32m----> 6\u001b[0m \u001b[38;5;28;01mimport\u001b[39;00m \u001b[38;5;21;01mmatplotlib\u001b[39;00m\u001b[38;5;21;01m.\u001b[39;00m\u001b[38;5;21;01mpyplot\u001b[39;00m \u001b[38;5;28;01mas\u001b[39;00m \u001b[38;5;21;01mplt\u001b[39;00m\n\u001b[1;32m      7\u001b[0m \u001b[38;5;28;01mimport\u001b[39;00m \u001b[38;5;21;01mtorch\u001b[39;00m\n\u001b[1;32m      8\u001b[0m \u001b[38;5;28;01mfrom\u001b[39;00m \u001b[38;5;21;01mpathlib\u001b[39;00m \u001b[38;5;28;01mimport\u001b[39;00m Path\n",
      "File \u001b[0;32m~/opt/anaconda3/envs/relative_rl/lib/python3.9/site-packages/matplotlib/__init__.py:109\u001b[0m\n\u001b[1;32m    105\u001b[0m \u001b[38;5;28;01mfrom\u001b[39;00m \u001b[38;5;21;01mpackaging\u001b[39;00m\u001b[38;5;21;01m.\u001b[39;00m\u001b[38;5;21;01mversion\u001b[39;00m \u001b[38;5;28;01mimport\u001b[39;00m parse \u001b[38;5;28;01mas\u001b[39;00m parse_version\n\u001b[1;32m    107\u001b[0m \u001b[38;5;66;03m# cbook must import matplotlib only within function\u001b[39;00m\n\u001b[1;32m    108\u001b[0m \u001b[38;5;66;03m# definitions, so it is safe to import from it here.\u001b[39;00m\n\u001b[0;32m--> 109\u001b[0m \u001b[38;5;28;01mfrom\u001b[39;00m \u001b[38;5;21;01m.\u001b[39;00m \u001b[38;5;28;01mimport\u001b[39;00m _api, _version, cbook, docstring, rcsetup\n\u001b[1;32m    110\u001b[0m \u001b[38;5;28;01mfrom\u001b[39;00m \u001b[38;5;21;01mmatplotlib\u001b[39;00m\u001b[38;5;21;01m.\u001b[39;00m\u001b[38;5;21;01mcbook\u001b[39;00m \u001b[38;5;28;01mimport\u001b[39;00m MatplotlibDeprecationWarning, sanitize_sequence\n\u001b[1;32m    111\u001b[0m \u001b[38;5;28;01mfrom\u001b[39;00m \u001b[38;5;21;01mmatplotlib\u001b[39;00m\u001b[38;5;21;01m.\u001b[39;00m\u001b[38;5;21;01mcbook\u001b[39;00m \u001b[38;5;28;01mimport\u001b[39;00m mplDeprecation  \u001b[38;5;66;03m# deprecated\u001b[39;00m\n",
      "File \u001b[0;32m~/opt/anaconda3/envs/relative_rl/lib/python3.9/site-packages/matplotlib/rcsetup.py:27\u001b[0m\n\u001b[1;32m     25\u001b[0m \u001b[38;5;28;01mfrom\u001b[39;00m \u001b[38;5;21;01mmatplotlib\u001b[39;00m \u001b[38;5;28;01mimport\u001b[39;00m _api, cbook\n\u001b[1;32m     26\u001b[0m \u001b[38;5;28;01mfrom\u001b[39;00m \u001b[38;5;21;01mmatplotlib\u001b[39;00m\u001b[38;5;21;01m.\u001b[39;00m\u001b[38;5;21;01mcbook\u001b[39;00m \u001b[38;5;28;01mimport\u001b[39;00m ls_mapper\n\u001b[0;32m---> 27\u001b[0m \u001b[38;5;28;01mfrom\u001b[39;00m \u001b[38;5;21;01mmatplotlib\u001b[39;00m\u001b[38;5;21;01m.\u001b[39;00m\u001b[38;5;21;01mcolors\u001b[39;00m \u001b[38;5;28;01mimport\u001b[39;00m Colormap, is_color_like\n\u001b[1;32m     28\u001b[0m \u001b[38;5;28;01mfrom\u001b[39;00m \u001b[38;5;21;01mmatplotlib\u001b[39;00m\u001b[38;5;21;01m.\u001b[39;00m\u001b[38;5;21;01mfontconfig_pattern\u001b[39;00m \u001b[38;5;28;01mimport\u001b[39;00m parse_fontconfig_pattern\n\u001b[1;32m     29\u001b[0m \u001b[38;5;28;01mfrom\u001b[39;00m \u001b[38;5;21;01mmatplotlib\u001b[39;00m\u001b[38;5;21;01m.\u001b[39;00m\u001b[38;5;21;01m_enums\u001b[39;00m \u001b[38;5;28;01mimport\u001b[39;00m JoinStyle, CapStyle\n",
      "File \u001b[0;32m~/opt/anaconda3/envs/relative_rl/lib/python3.9/site-packages/matplotlib/colors.py:56\u001b[0m\n\u001b[1;32m     54\u001b[0m \u001b[38;5;28;01mimport\u001b[39;00m \u001b[38;5;21;01mmatplotlib\u001b[39;00m \u001b[38;5;28;01mas\u001b[39;00m \u001b[38;5;21;01mmpl\u001b[39;00m\n\u001b[1;32m     55\u001b[0m \u001b[38;5;28;01mimport\u001b[39;00m \u001b[38;5;21;01mnumpy\u001b[39;00m \u001b[38;5;28;01mas\u001b[39;00m \u001b[38;5;21;01mnp\u001b[39;00m\n\u001b[0;32m---> 56\u001b[0m \u001b[38;5;28;01mfrom\u001b[39;00m \u001b[38;5;21;01mmatplotlib\u001b[39;00m \u001b[38;5;28;01mimport\u001b[39;00m _api, cbook, scale\n\u001b[1;32m     57\u001b[0m \u001b[38;5;28;01mfrom\u001b[39;00m \u001b[38;5;21;01m.\u001b[39;00m\u001b[38;5;21;01m_color_data\u001b[39;00m \u001b[38;5;28;01mimport\u001b[39;00m BASE_COLORS, TABLEAU_COLORS, CSS4_COLORS, XKCD_COLORS\n\u001b[1;32m     60\u001b[0m \u001b[38;5;28;01mclass\u001b[39;00m \u001b[38;5;21;01m_ColorMapping\u001b[39;00m(\u001b[38;5;28mdict\u001b[39m):\n",
      "File \u001b[0;32m~/opt/anaconda3/envs/relative_rl/lib/python3.9/site-packages/matplotlib/scale.py:23\u001b[0m\n\u001b[1;32m     21\u001b[0m \u001b[38;5;28;01mimport\u001b[39;00m \u001b[38;5;21;01mmatplotlib\u001b[39;00m \u001b[38;5;28;01mas\u001b[39;00m \u001b[38;5;21;01mmpl\u001b[39;00m\n\u001b[1;32m     22\u001b[0m \u001b[38;5;28;01mfrom\u001b[39;00m \u001b[38;5;21;01mmatplotlib\u001b[39;00m \u001b[38;5;28;01mimport\u001b[39;00m _api, docstring\n\u001b[0;32m---> 23\u001b[0m \u001b[38;5;28;01mfrom\u001b[39;00m \u001b[38;5;21;01mmatplotlib\u001b[39;00m\u001b[38;5;21;01m.\u001b[39;00m\u001b[38;5;21;01mticker\u001b[39;00m \u001b[38;5;28;01mimport\u001b[39;00m (\n\u001b[1;32m     24\u001b[0m     NullFormatter, ScalarFormatter, LogFormatterSciNotation, LogitFormatter,\n\u001b[1;32m     25\u001b[0m     NullLocator, LogLocator, AutoLocator, AutoMinorLocator,\n\u001b[1;32m     26\u001b[0m     SymmetricalLogLocator, LogitLocator)\n\u001b[1;32m     27\u001b[0m \u001b[38;5;28;01mfrom\u001b[39;00m \u001b[38;5;21;01mmatplotlib\u001b[39;00m\u001b[38;5;21;01m.\u001b[39;00m\u001b[38;5;21;01mtransforms\u001b[39;00m \u001b[38;5;28;01mimport\u001b[39;00m Transform, IdentityTransform\n\u001b[1;32m     30\u001b[0m \u001b[38;5;28;01mclass\u001b[39;00m \u001b[38;5;21;01mScaleBase\u001b[39;00m:\n",
      "File \u001b[0;32m~/opt/anaconda3/envs/relative_rl/lib/python3.9/site-packages/matplotlib/ticker.py:136\u001b[0m\n\u001b[1;32m    134\u001b[0m \u001b[38;5;28;01mimport\u001b[39;00m \u001b[38;5;21;01mmatplotlib\u001b[39;00m \u001b[38;5;28;01mas\u001b[39;00m \u001b[38;5;21;01mmpl\u001b[39;00m\n\u001b[1;32m    135\u001b[0m \u001b[38;5;28;01mfrom\u001b[39;00m \u001b[38;5;21;01mmatplotlib\u001b[39;00m \u001b[38;5;28;01mimport\u001b[39;00m _api, cbook\n\u001b[0;32m--> 136\u001b[0m \u001b[38;5;28;01mfrom\u001b[39;00m \u001b[38;5;21;01mmatplotlib\u001b[39;00m \u001b[38;5;28;01mimport\u001b[39;00m transforms \u001b[38;5;28;01mas\u001b[39;00m mtransforms\n\u001b[1;32m    138\u001b[0m _log \u001b[38;5;241m=\u001b[39m logging\u001b[38;5;241m.\u001b[39mgetLogger(\u001b[38;5;18m__name__\u001b[39m)\n\u001b[1;32m    140\u001b[0m __all__ \u001b[38;5;241m=\u001b[39m (\u001b[38;5;124m'\u001b[39m\u001b[38;5;124mTickHelper\u001b[39m\u001b[38;5;124m'\u001b[39m, \u001b[38;5;124m'\u001b[39m\u001b[38;5;124mFormatter\u001b[39m\u001b[38;5;124m'\u001b[39m, \u001b[38;5;124m'\u001b[39m\u001b[38;5;124mFixedFormatter\u001b[39m\u001b[38;5;124m'\u001b[39m,\n\u001b[1;32m    141\u001b[0m            \u001b[38;5;124m'\u001b[39m\u001b[38;5;124mNullFormatter\u001b[39m\u001b[38;5;124m'\u001b[39m, \u001b[38;5;124m'\u001b[39m\u001b[38;5;124mFuncFormatter\u001b[39m\u001b[38;5;124m'\u001b[39m, \u001b[38;5;124m'\u001b[39m\u001b[38;5;124mFormatStrFormatter\u001b[39m\u001b[38;5;124m'\u001b[39m,\n\u001b[1;32m    142\u001b[0m            \u001b[38;5;124m'\u001b[39m\u001b[38;5;124mStrMethodFormatter\u001b[39m\u001b[38;5;124m'\u001b[39m, \u001b[38;5;124m'\u001b[39m\u001b[38;5;124mScalarFormatter\u001b[39m\u001b[38;5;124m'\u001b[39m, \u001b[38;5;124m'\u001b[39m\u001b[38;5;124mLogFormatter\u001b[39m\u001b[38;5;124m'\u001b[39m,\n\u001b[0;32m   (...)\u001b[0m\n\u001b[1;32m    148\u001b[0m            \u001b[38;5;124m'\u001b[39m\u001b[38;5;124mMultipleLocator\u001b[39m\u001b[38;5;124m'\u001b[39m, \u001b[38;5;124m'\u001b[39m\u001b[38;5;124mMaxNLocator\u001b[39m\u001b[38;5;124m'\u001b[39m, \u001b[38;5;124m'\u001b[39m\u001b[38;5;124mAutoMinorLocator\u001b[39m\u001b[38;5;124m'\u001b[39m,\n\u001b[1;32m    149\u001b[0m            \u001b[38;5;124m'\u001b[39m\u001b[38;5;124mSymmetricalLogLocator\u001b[39m\u001b[38;5;124m'\u001b[39m, \u001b[38;5;124m'\u001b[39m\u001b[38;5;124mLogitLocator\u001b[39m\u001b[38;5;124m'\u001b[39m)\n",
      "File \u001b[0;32m~/opt/anaconda3/envs/relative_rl/lib/python3.9/site-packages/matplotlib/transforms.py:46\u001b[0m\n\u001b[1;32m     43\u001b[0m \u001b[38;5;28;01mfrom\u001b[39;00m \u001b[38;5;21;01mnumpy\u001b[39;00m\u001b[38;5;21;01m.\u001b[39;00m\u001b[38;5;21;01mlinalg\u001b[39;00m \u001b[38;5;28;01mimport\u001b[39;00m inv\n\u001b[1;32m     45\u001b[0m \u001b[38;5;28;01mfrom\u001b[39;00m \u001b[38;5;21;01mmatplotlib\u001b[39;00m \u001b[38;5;28;01mimport\u001b[39;00m _api\n\u001b[0;32m---> 46\u001b[0m \u001b[38;5;28;01mfrom\u001b[39;00m \u001b[38;5;21;01mmatplotlib\u001b[39;00m\u001b[38;5;21;01m.\u001b[39;00m\u001b[38;5;21;01m_path\u001b[39;00m \u001b[38;5;28;01mimport\u001b[39;00m (\n\u001b[1;32m     47\u001b[0m     affine_transform, count_bboxes_overlapping_bbox, update_path_extents)\n\u001b[1;32m     48\u001b[0m \u001b[38;5;28;01mfrom\u001b[39;00m \u001b[38;5;21;01m.\u001b[39;00m\u001b[38;5;21;01mpath\u001b[39;00m \u001b[38;5;28;01mimport\u001b[39;00m Path\n\u001b[1;32m     50\u001b[0m DEBUG \u001b[38;5;241m=\u001b[39m \u001b[38;5;28;01mFalse\u001b[39;00m\n",
      "\u001b[0;31mImportError\u001b[0m: numpy.core.multiarray failed to import"
     ]
    }
   ],
   "source": [
    "import os\n",
    "import itertools\n",
    "import random\n",
    "from typing import Sequence\n",
    "\n",
    "import matplotlib.pyplot as plt\n",
    "import torch\n",
    "from pathlib import Path\n",
    "from pytorch_lightning import seed_everything\n",
    "from torch.nn import functional as F\n",
    "import tueplots\n",
    "import numpy as np\n",
    "try:\n",
    "    # be ready for 3.10 when it drops\n",
    "    from enum import StrEnum\n",
    "except ImportError:\n",
    "    from backports.strenum import StrEnum\n",
    "from enum import auto\n",
    "from nn_core.common import PROJECT_ROOT\n",
    "import pickle\n",
    "print(os.path.abspath(os.curdir))\n",
    "os.chdir(\"..\")\n",
    "print(os.path.abspath(os.curdir))\n",
    "from rl_agents.ppo.ppo_end_to_end_relu_stack_align import FeatureExtractor\n",
    "from utils.relative import *\n",
    "from utils.notebooks import *\n"
   ]
  },
  {
   "cell_type": "code",
   "execution_count": null,
   "metadata": {},
   "outputs": [],
   "source": [
    "DATA_DIR: Path = PROJECT_ROOT / \"data\""
   ]
  },
  {
   "cell_type": "code",
   "execution_count": null,
   "metadata": {},
   "outputs": [],
   "source": [
    "from tueplots import bundles\n",
    "\n",
    "# plt.rcParams.update(bundles.icml2022())\n",
    "bundles.icml2022()"
   ]
  },
  {
   "cell_type": "code",
   "execution_count": null,
   "metadata": {},
   "outputs": [],
   "source": [
    "CMAP = \"jet\""
   ]
  },
  {
   "cell_type": "code",
   "execution_count": null,
   "metadata": {},
   "outputs": [],
   "source": [
    "DATA_DIR: Path = PROJECT_ROOT"
   ]
  },
  {
   "cell_type": "code",
   "execution_count": null,
   "metadata": {},
   "outputs": [],
   "source": [
    "color1 = \"green\"\n",
    "color2 = \"red\"\n",
    "enc1_seed = 1\n",
    "enc2_seed = 1\n",
    "\n",
    "obs_path1 = f\"data/anchors/CarRacing-v2/rgb_ppo_transitions_{color1}_obs.pkl\"\n",
    "obs_path2 = f\"data/anchors/CarRacing-v2/rgb_ppo_transitions_{color2}_obs.pkl\"\n",
    "\n",
    "algo1 = \"ppo\"\n",
    "algo2 = \"ppo\"\n",
    "env_id1 = \"CarRacing-v2\"\n",
    "env_id2 = \"CarRacing-v2\"\n",
    "device = torch.device(\"cuda\" if torch.cuda.is_available() else \"cpu\")\n",
    "encoder1_path = torch.load(f\"models/{env_id1}/rgb/{color1}/{algo1}/absolute/relu/seed_{enc1_seed}/encoder.pt\", map_location=device)\n",
    "encoder2_path = torch.load(f\"models/{env_id2}/rgb/{color2}/{algo2}/absolute/relu/seed_{enc2_seed}/encoder.pt\", map_location=device)"
   ]
  },
  {
   "cell_type": "code",
   "execution_count": null,
   "metadata": {},
   "outputs": [],
   "source": [
    "encoder1 = FeatureExtractor()\n",
    "encoder2 = FeatureExtractor()\n",
    "encoder1.load_state_dict(encoder1_path)\n",
    "encoder2.load_state_dict(encoder2_path)"
   ]
  },
  {
   "cell_type": "code",
   "execution_count": null,
   "metadata": {},
   "outputs": [],
   "source": [
    "obs_set_1 = pickle.load(\n",
    "            Path(\n",
    "                obs_path1\n",
    "            ).open(\"rb\")\n",
    "        )  # [30:2000]\n",
    "obs_set_2 = pickle.load(\n",
    "    Path(\n",
    "        obs_path2\n",
    "    ).open(\"rb\")\n",
    ")  # [30:2000]\n",
    "print('\\n#####\\nObs loaded\\n#####\\n')\n",
    "# subset_indices = np.random.randint(0, len(obs_set_1), 5000)\n",
    "obs_set_1 = obs_set_1\n",
    "obs_set_2 = obs_set_2\n",
    "\n",
    "print('Converting obs to torch tensor')\n",
    "# convert the (4000, 3, 84, 84) numpy array to a torch tensor\n",
    "obs_set_1 = torch.tensor(np.array(obs_set_1), dtype=torch.float32)\n",
    "obs_set_2 = torch.tensor(np.array(obs_set_2), dtype=torch.float32)\n",
    "print('Done converting obs to torch tensor\\n#####\\n')\n",
    "\n",
    "# obs_set_1 = torch.cat([obs_set_1, obs_set_2], dim=0)  # [anch_indices\n",
    "# obs_set_2 = obs_set_1\n",
    "\n",
    "subset_indices = np.arange(len(obs_set_1))#[:4000]\n",
    "\n",
    "# obs_set_1 = torch.cat(obs_set_1, dim=0).cpu()  # [anch_indices]\n",
    "# obs_set_2 = torch.cat(obs_set_2, dim=0).cpu()  # [anch_indices]\n",
    "space1 = encoder1.forward_single(obs_set_1.to(device)).detach().cpu()[:900]\n",
    "space2 = encoder2.forward_single(obs_set_2.to(device)).detach().cpu()[:900]"
   ]
  },
  {
   "cell_type": "code",
   "execution_count": null,
   "metadata": {},
   "outputs": [],
   "source": []
  },
  {
   "cell_type": "code",
   "execution_count": null,
   "metadata": {},
   "outputs": [],
   "source": [
    "# plot obs_set_1 and obs_set_2 images in a subplot\n",
    "i = 0\n",
    "fig, ax = plt.subplots(1, 2)\n",
    "ax[0].imshow(obs_set_1[i].permute(1, 2, 0))\n",
    "ax[1].imshow(obs_set_2[i].permute(1, 2, 0))\n",
    "plt.show()\n"
   ]
  },
  {
   "cell_type": "code",
   "execution_count": null,
   "metadata": {},
   "outputs": [],
   "source": [
    "assert space1.shape == space2.shape\n",
    "# assert space1.size(0) == labels.size(0)\n",
    "space1.shape"
   ]
  },
  {
   "cell_type": "code",
   "execution_count": null,
   "metadata": {},
   "outputs": [],
   "source": [
    "norm_space1: torch.Tensor = F.normalize(space1, p=2, dim=-1)\n",
    "norm_space2: torch.Tensor = F.normalize(space2, p=2, dim=-1)\n",
    "\n",
    "assert norm_space1.shape == norm_space2.shape"
   ]
  },
  {
   "cell_type": "code",
   "execution_count": null,
   "metadata": {},
   "outputs": [],
   "source": [
    "plot_pairwise_dist(space1=space1, space2=space2, prefix=\"Absolute\")"
   ]
  },
  {
   "cell_type": "code",
   "execution_count": null,
   "metadata": {},
   "outputs": [],
   "source": [
    "self_sim_comparison(space1=space1, space2=space2, normalize=True)"
   ]
  },
  {
   "cell_type": "code",
   "execution_count": null,
   "metadata": {},
   "outputs": [],
   "source": [
    "fig, ax = plt.subplots(\n",
    "    nrows=1, ncols=1, figsize=(10, 6), sharey=False\n",
    ")\n",
    "dist_method = DistMethod.COSINE\n",
    "prefix = \"Absolute\"\n",
    "dists = all_dist(space1=space1, space2=space2, method=dist_method)\n",
    "# ax.set_title(f\"{prefix} self-similarities ({dist_method})\")\n",
    "img = ax.imshow(dists, cmap=CMAP, vmin=-1, vmax=1)  # Set vmin and vmax to -1 and 1\n",
    "plt.colorbar(img, ax=ax)\n",
    "plt.savefig(f\"experiments/plots/{env_id1}_{color1}_{env_id2}_{color2}_abs_selfsim.pdf\", bbox_inches='tight')"
   ]
  },
  {
   "cell_type": "code",
   "execution_count": null,
   "metadata": {},
   "outputs": [],
   "source": [
    "anchors_space1 = encoder1.forward_single(obs_set_1.to(device)).detach().cpu()\n",
    "anchors_space2 = encoder2.forward_single(obs_set_2.to(device)).detach().cpu()\n",
    "# center anchors\n",
    "anchors_space1_mean = anchors_space1.mean(dim=0)\n",
    "anchors_space2_mean = anchors_space2.mean(dim=0)\n",
    "\n",
    "center_anchor_translations = torch.cdist(anchors_space1_mean.unsqueeze(0), anchors_space2_mean.unsqueeze(0), p=2)\n",
    "\n",
    "anchors_space1 = (anchors_space1 - anchors_space1.mean(dim=0)) # / anchors_space1.std(dim=0)\n",
    "anchors_space2 = (anchors_space2 - anchors_space2.mean(dim=0)) # / anchors_space2.std(dim=0)\n",
    "center_anchor_translations = torch.cdist(anchors_space1.mean(dim=0, keepdim=True), anchors_space2.mean(dim=0, keepdim=True).unsqueeze(0), p=2)\n",
    "\n",
    "norm_anchors_space1: torch.Tensor = F.normalize(anchors_space1, p=2, dim=-1)\n",
    "norm_anchors_space2: torch.Tensor = F.normalize(anchors_space2, p=2, dim=-1)\n",
    "\n",
    "assert norm_anchors_space1.shape == norm_anchors_space2.shape\n",
    "\n",
    "\n",
    "norm_space1 = (space1 - anchors_space1_mean)#  / self.anchors_std\n",
    "norm_space1: torch.Tensor = F.normalize(norm_space1, p=2, dim=-1)\n",
    "\n",
    "norm_space2 = (space2 - anchors_space2_mean)#  / self.anchors_std\n",
    "norm_space2: torch.Tensor = F.normalize(norm_space2, p=2, dim=-1)"
   ]
  },
  {
   "cell_type": "code",
   "execution_count": null,
   "metadata": {},
   "outputs": [],
   "source": [
    "space1.shape"
   ]
  },
  {
   "cell_type": "code",
   "execution_count": null,
   "metadata": {},
   "outputs": [],
   "source": [
    "rel_space1 = norm_space1 @ anchors_space1.T # space1_anchors.T\n",
    "rel_space2 = norm_space2 @ anchors_space2.T # space2_anchors.T"
   ]
  },
  {
   "cell_type": "code",
   "execution_count": null,
   "metadata": {},
   "outputs": [],
   "source": [
    "fig = plot_pairwise_dist(space1=rel_space1, space2=rel_space2, prefix=\"Relative\")\n",
    "# save fig\n",
    "# fig.savefig(f\"experiments/plots/{env_id1}_{color1}_{env_id2}_{color2}_pairwise_dist_rel.pdf\", bbox_inches='tight')\n",
    "fig"
   ]
  },
  {
   "cell_type": "code",
   "execution_count": null,
   "metadata": {},
   "outputs": [],
   "source": [
    "self_sim_comparison(space1=rel_space1, space2=rel_space2, normalize=True)"
   ]
  },
  {
   "cell_type": "code",
   "execution_count": null,
   "metadata": {},
   "outputs": [],
   "source": [
    "# plot_self_dist(space1=rel_space1, space2=rel_space2, prefix=\"Relative\")"
   ]
  },
  {
   "cell_type": "code",
   "execution_count": null,
   "metadata": {},
   "outputs": [],
   "source": [
    "fig, ax = plt.subplots(\n",
    "    nrows=1, ncols=1, figsize=(10, 6), sharey=False\n",
    ")\n",
    "dist_method = DistMethod.COSINE\n",
    "prefix = \"Relative\"\n",
    "dists = all_dist(space1=rel_space1, space2=rel_space2, method=dist_method)\n",
    "# ax.set_title(f\"{prefix} self-similarities ({dist_method})\")\n",
    "img = ax.imshow(dists, cmap=CMAP, vmin=-1, vmax=1)  # Set vmin and vmax to -1 and 1\n",
    "plt.colorbar(img, ax=ax)\n",
    "# plt.savefig(f\"experiments/plots/{env_id1}_{color1}_{env_id2}_{color2}_rel_selfsim.pdf\", bbox_inches='tight')"
   ]
  },
  {
   "cell_type": "code",
   "execution_count": null,
   "metadata": {},
   "outputs": [],
   "source": [
    "fig, axs = plt.subplots(nrows=1, ncols=2, figsize=(11, 5), sharey=True, gridspec_kw={'wspace': 0.1})\n",
    "\n",
    "dist_method = DistMethod.COSINE\n",
    "prefix = \"Absolute\"\n",
    "dists = pairwise_dist(space1=space1, space2=space2, method=dist_method)\n",
    "axs[0].hist(dists, bins=42)\n",
    "axs[0].set_title(f\"{prefix} pairwise similarities ({dist_method})\")\n",
    "axs[0].axvline(dists.mean(), color=\"k\", linestyle=\"dashed\", linewidth=1)\n",
    "\n",
    "min_ylim, max_ylim = axs[0].get_ylim()\n",
    "min_xlim, max_xlim = axs[0].get_xlim()\n",
    "axs[0].text(\n",
    "    dists.mean() + (max_xlim - min_xlim) / 20,\n",
    "    max_ylim * 0.95,\n",
    "    \"Mean: {:.2f}\".format(dists.mean()),\n",
    ")\n",
    "\n",
    "prefix = \"Relative\"\n",
    "dists = pairwise_dist(space1=rel_space1, space2=rel_space2, method=dist_method)\n",
    "axs[1].hist(dists, bins=42)\n",
    "axs[1].set_title(f\"{prefix} pairwise similarities ({dist_method})\")\n",
    "axs[1].axvline(dists.mean(), color=\"k\", linestyle=\"dashed\", linewidth=1)\n",
    "\n",
    "min_ylim, max_ylim = axs[1].get_ylim()\n",
    "min_xlim, max_xlim = axs[1].get_xlim()\n",
    "axs[1].text(\n",
    "    dists.mean() + (max_xlim - min_xlim) / 20,\n",
    "    max_ylim * 0.95,\n",
    "    \"Mean: {:.2f}\".format(dists.mean()),\n",
    ")\n",
    "\n",
    "plt.close()\n",
    "\n",
    "# fig.savefig(f\"experiments/plots/{env_id1}_{color1}_{env_id2}_{color2}_pairwise_dists_abs_rel.pdf\", bbox_inches='tight')\n",
    "\n",
    "fig"
   ]
  },
  {
   "cell_type": "code",
   "execution_count": null,
   "metadata": {},
   "outputs": [],
   "source": [
    "fig, axs = plt.subplots(nrows=1, ncols=2, figsize=(11, 5), sharey=True, gridspec_kw={'wspace': 0.1})\n",
    "\n",
    "# Plot Absolute Self-Similarities\n",
    "dist_method = DistMethod.COSINE\n",
    "prefix = \"Absolute\"\n",
    "dists = all_dist(space1=space1, space2=space2, method=dist_method)\n",
    "# axs[0].set_title(f\"{prefix} self-similarities ({dist_method})\")\n",
    "img1 = axs[0].imshow(dists, cmap='jet', vmin=-1, vmax=1) # cmap='Spectral_r'\n",
    "\n",
    "# Plot Relative Self-Similarities\n",
    "dist_method = DistMethod.COSINE\n",
    "prefix = \"Relative\"\n",
    "dists = all_dist(space1=rel_space1, space2=rel_space2, method=dist_method)\n",
    "# axs[1].set_title(f\"{prefix} self-similarities ({dist_method})\")\n",
    "img2 = axs[1].imshow(dists, cmap='jet', vmin=-1, vmax=1)\n",
    "\n",
    "# Add a smaller colorbar\n",
    "fig.colorbar(img2, ax=axs, orientation='vertical', shrink=0.82)\n",
    "\n",
    "# Save the figure\n",
    "# plt.savefig(f\"experiments/plots/{env_id1}_{color1}_{env_id2}_{color2}_selfsim.pdf\", bbox_inches='tight')\n"
   ]
  },
  {
   "cell_type": "code",
   "execution_count": null,
   "metadata": {},
   "outputs": [],
   "source": [
    "# plot frame i and frame j in a subplot\n",
    "i = 200\n",
    "j = 650\n",
    "fig, ax = plt.subplots(1, 2, figsize=(10, 5), sharey=True, gridspec_kw={'wspace': 0})\n",
    "ax[0].imshow(obs_set_1[i].permute(1, 2, 0))\n",
    "ax[1].imshow(obs_set_2[j].permute(1, 2, 0))\n",
    "\n",
    "# Hide ticks\n",
    "ax[0].set_xticks([])\n",
    "ax[0].set_yticks([])\n",
    "ax[1].set_xticks([])\n",
    "ax[1].set_yticks([])\n",
    "\n",
    "plt.tight_layout()\n",
    "# plt.show()\n",
    "\n",
    "# save image to file\n",
    "# plt.savefig(f\"experiments/plots/{env_id1}_{color1}_{env_id2}_{color2}_frames.pdf\", bbox_inches='tight')"
   ]
  },
  {
   "cell_type": "markdown",
   "metadata": {},
   "source": [
    "# Additional Analysis of the Latent Space"
   ]
  },
  {
   "cell_type": "code",
   "execution_count": null,
   "metadata": {},
   "outputs": [],
   "source": [
    "class Reduction(StrEnum):\n",
    "    INDEPENDENT_PCA = auto()\n",
    "    SHARED_PCA = auto()\n",
    "    TSNE = auto()\n",
    "    # UMAP = auto()\n",
    "    FIRST_DIMS = auto()"
   ]
  },
  {
   "cell_type": "code",
   "execution_count": null,
   "metadata": {},
   "outputs": [],
   "source": [
    "from sklearn.decomposition import PCA\n",
    "from sklearn.manifold import TSNE\n",
    "\n",
    "\n",
    "def reduce(\n",
    "    space1: torch.Tensor, space2: torch.Tensor, reduction: Reduction, seed: int = 42\n",
    "):\n",
    "    if reduction == Reduction.INDEPENDENT_PCA:\n",
    "        space1 = PCA(2, random_state=seed).fit_transform(space1)\n",
    "        space2 = PCA(2, random_state=seed).fit_transform(space2)\n",
    "    elif reduction == Reduction.SHARED_PCA:\n",
    "        pca = PCA(2, random_state=seed)\n",
    "        space1 = pca.fit_transform(space1)\n",
    "        space2 = pca.transform(space2)\n",
    "    elif reduction == Reduction.TSNE:\n",
    "        space1 = TSNE(\n",
    "            2, random_state=seed, learning_rate=\"auto\", init=\"pca\"\n",
    "        ).fit_transform(space1)\n",
    "        space2 = TSNE(\n",
    "            2, random_state=seed, learning_rate=\"auto\", init=\"pca\"\n",
    "        ).fit_transform(space2)\n",
    "    elif reduction == Reduction.FIRST_DIMS:\n",
    "        space1 = space1[:, [0, 1]]\n",
    "        space2 = space2[:, [0, 1]]\n",
    "    else:\n",
    "        raise NotImplementedError\n",
    "\n",
    "    return space1, space2"
   ]
  },
  {
   "cell_type": "code",
   "execution_count": null,
   "metadata": {},
   "outputs": [],
   "source": [
    "def plot_space_grid(\n",
    "    x_header: Sequence[str],\n",
    "    y_header: Sequence[str],\n",
    "    spaces: Sequence[Sequence[np.ndarray]],\n",
    "    c=None,\n",
    "    cmap=CMAP,\n",
    "):\n",
    "    \"\"\"Plots a grid of scatter plots using matplotlib.\n",
    "\n",
    "    Args:\n",
    "        x_header: A sequence of strings for the x-axis labels.\n",
    "        y_header: A sequence of strings for the y-axis labels.\n",
    "        spaces: A sequence of sequences of tensors containing the data to be plotted.\n",
    "        c: Optional. The colors of the plotted points.\n",
    "        cmap: The colormap to use for the plotted points.\n",
    "    Returns:\n",
    "        The figure object representing the complete plot.\n",
    "    \"\"\"\n",
    "    n_rows = len(spaces)\n",
    "    n_cols = len(spaces[0])\n",
    "\n",
    "    fig, axs = plt.subplots(\n",
    "        nrows=n_rows, ncols=n_cols, figsize=(n_cols * 5, n_rows * 5)\n",
    "    )\n",
    "\n",
    "    for x, row in zip(x_header, axs):\n",
    "        row[0].set_ylabel(x, rotation=90, size=\"xx-large\")\n",
    "\n",
    "    for y, col in zip(y_header, axs[0]):\n",
    "        col.set_title(y, size=\"xx-large\")\n",
    "\n",
    "    for i, j in itertools.product(range(n_rows), range(n_cols)):\n",
    "        space = spaces[i][j]\n",
    "        assert space.shape[1] == 2\n",
    "        axs[i, j].scatter(x=space[:, 0], y=space[:, 1], c=c, cmap=cmap)\n",
    "\n",
    "    plt.close()\n",
    "    return fig"
   ]
  },
  {
   "cell_type": "code",
   "execution_count": null,
   "metadata": {},
   "outputs": [],
   "source": []
  },
  {
   "cell_type": "code",
   "execution_count": null,
   "metadata": {},
   "outputs": [],
   "source": [
    "x_header = [reduction.upper() for reduction in Reduction]\n",
    "y_header = [\n",
    "    \"Absolute Space 1\",\n",
    "    \"Absolute Space 2\",\n",
    "    \"Relative Space 1\",\n",
    "    \"Relative Space 2\",\n",
    "]\n",
    "\n",
    "spaces = [\n",
    "    [\n",
    "        *reduce(space1=space1, space2=space2, reduction=reduction),\n",
    "        *reduce(space1=rel_space1, space2=rel_space2, reduction=reduction),\n",
    "    ]\n",
    "    for reduction in Reduction\n",
    "]"
   ]
  },
  {
   "cell_type": "code",
   "execution_count": null,
   "metadata": {},
   "outputs": [],
   "source": [
    "# labels = torch.arange(space1.shape[0])\n",
    "# load actions list as labels\n",
    "labels_pth = \"data/actions_lists/CarRacing-v2_actions_4000.pkl\"\n",
    "labels = pickle.load(Path(labels_pth).open(\"rb\"))[:900]"
   ]
  },
  {
   "cell_type": "code",
   "execution_count": null,
   "metadata": {},
   "outputs": [],
   "source": [
    "plot_space_grid(x_header=x_header, y_header=y_header, spaces=spaces[:200], c=labels)"
   ]
  },
  {
   "cell_type": "code",
   "execution_count": null,
   "metadata": {},
   "outputs": [],
   "source": []
  },
  {
   "cell_type": "code",
   "execution_count": null,
   "metadata": {},
   "outputs": [],
   "source": []
  },
  {
   "cell_type": "code",
   "execution_count": null,
   "metadata": {},
   "outputs": [],
   "source": []
  },
  {
   "cell_type": "code",
   "execution_count": null,
   "metadata": {},
   "outputs": [],
   "source": []
  },
  {
   "cell_type": "code",
   "execution_count": null,
   "metadata": {},
   "outputs": [],
   "source": []
  },
  {
   "cell_type": "code",
   "execution_count": null,
   "metadata": {},
   "outputs": [],
   "source": []
  },
  {
   "cell_type": "code",
   "execution_count": null,
   "metadata": {},
   "outputs": [],
   "source": [
    "sample_limit: int = None"
   ]
  },
  {
   "cell_type": "code",
   "execution_count": null,
   "metadata": {},
   "outputs": [],
   "source": [
    "# sort the items by class\n",
    "sort_indices: torch.Tensor = labels[:sample_limit].sort().indices\n",
    "abs_space1: torch.Tensor = abs_space1[sort_indices, :]\n",
    "abs_space2: torch.Tensor = abs_space2[sort_indices, :]\n",
    "labels: torch.Tensor = labels[sort_indices]\n",
    "\n",
    "assert abs_space1.shape == abs_space2.shape\n",
    "assert abs_space1.size(0) == labels.size(0)\n",
    "abs_space1.shape"
   ]
  },
  {
   "cell_type": "code",
   "execution_count": null,
   "metadata": {},
   "outputs": [],
   "source": [
    "norm_abs_space1: torch.Tensor = F.normalize(abs_space1, p=2, dim=-1)\n",
    "norm_abs_space2: torch.Tensor = F.normalize(abs_space2, p=2, dim=-1)\n",
    "\n",
    "assert norm_abs_space1.shape == norm_abs_space2.shape"
   ]
  },
  {
   "cell_type": "code",
   "execution_count": null,
   "metadata": {},
   "outputs": [],
   "source": [
    "class DistMethod(StrEnum):\n",
    "    COSINE = auto()\n",
    "    INNER = auto()\n",
    "    MSE = auto()"
   ]
  },
  {
   "cell_type": "code",
   "execution_count": null,
   "metadata": {},
   "outputs": [],
   "source": [
    "from torch.nn.functional import mse_loss, pairwise_distance\n",
    "from torchmetrics.functional import pearson_corrcoef, spearman_corrcoef\n",
    "from torch import cosine_similarity"
   ]
  },
  {
   "cell_type": "code",
   "execution_count": null,
   "metadata": {},
   "outputs": [],
   "source": [
    "def self_sim_comparison(\n",
    "    space1: torch.Tensor,\n",
    "    space2: torch.Tensor,\n",
    "    normalize: bool = False,\n",
    "):\n",
    "    if normalize:\n",
    "        space1 = F.normalize(space1, p=2, dim=-1)\n",
    "        space2 = F.normalize(space2, p=2, dim=-1)\n",
    "\n",
    "    self_sim1 = space1 @ space1.T\n",
    "    self_sim2 = space2 @ space2.T\n",
    "\n",
    "    spearman = spearman_corrcoef(self_sim1.T, self_sim2.T)\n",
    "    pearson = pearson_corrcoef(self_sim1.T, self_sim2.T)\n",
    "    cosine = cosine_similarity(self_sim1, self_sim2)\n",
    "\n",
    "    return dict(\n",
    "        spearman_mean=spearman.mean().item(),\n",
    "        spearman_std=spearman.std().item(),\n",
    "        pearson_mean=pearson.mean().item(),\n",
    "        pearson_std=pearson.std().item(),\n",
    "        cosine_mean=cosine.mean().item(),\n",
    "        cosine_std=cosine.std().item(),\n",
    "    )\n",
    "\n",
    "\n",
    "def pairwise_dist(space1: torch.Tensor, space2: torch.Tensor, method: DistMethod):\n",
    "    if method == DistMethod.COSINE:\n",
    "        dists = cosine_similarity(space1, space2)\n",
    "    elif method == DistMethod.INNER:\n",
    "        dists = pairwise_distance(space1, space2, p=2)\n",
    "    elif method == DistMethod.MSE:\n",
    "        dists = mse_loss(space1, space2, reduction=\"none\").mean(dim=1)\n",
    "    else:\n",
    "        raise NotImplementedError\n",
    "\n",
    "    return dists\n",
    "\n",
    "\n",
    "def all_dist(space1: torch.Tensor, space2: torch.Tensor, method: DistMethod):\n",
    "    if method == DistMethod.COSINE:\n",
    "        space1 = F.normalize(space1, p=2, dim=-1)\n",
    "        space2 = F.normalize(space2, p=2, dim=-1)\n",
    "        dists = space1 @ space2.T\n",
    "    elif method == DistMethod.INNER:\n",
    "        dists = space1 @ space2.T\n",
    "    elif method == DistMethod.MSE:\n",
    "        dists = ((space1[:, None, :] - space2[None, :, :]) ** 2).mean(dim=-1)\n",
    "    else:\n",
    "        raise NotImplementedError\n",
    "\n",
    "    return dists"
   ]
  },
  {
   "cell_type": "code",
   "execution_count": null,
   "metadata": {},
   "outputs": [],
   "source": [
    "def plot_pairwise_dist(space1: torch.Tensor, space2: torch.Tensor, prefix: str):\n",
    "    fig, axs = plt.subplots(\n",
    "        nrows=1, ncols=len(DistMethod), figsize=(20, 6), sharey=False\n",
    "    )\n",
    "    for dist_method, ax in zip(DistMethod, axs):\n",
    "        dists = pairwise_dist(space1=space1, space2=space2, method=dist_method)\n",
    "        ax.hist(dists, bins=42)\n",
    "        ax.set_title(f\"{prefix} pairwise similarities ({dist_method})\")\n",
    "        ax.axvline(dists.mean(), color=\"k\", linestyle=\"dashed\", linewidth=1)\n",
    "\n",
    "        min_ylim, max_ylim = ax.get_ylim()\n",
    "        min_xlim, max_xlim = ax.get_xlim()\n",
    "        ax.text(\n",
    "            dists.mean() + (max_xlim - min_xlim) / 20,\n",
    "            max_ylim * 0.95,\n",
    "            \"Mean: {:.2f}\".format(dists.mean()),\n",
    "        )\n",
    "\n",
    "    plt.close()\n",
    "\n",
    "    return fig\n",
    "\n",
    "\n",
    "def plot_self_dist(space1: torch.Tensor, space2: torch.Tensor, prefix: str):\n",
    "    fig, axs = plt.subplots(\n",
    "        nrows=2, ncols=len(DistMethod), figsize=(20, 11), sharey=False\n",
    "    )\n",
    "    for dist_method, ax in zip(DistMethod, axs[0]):\n",
    "        dists = all_dist(space1=space1, space2=space2, method=dist_method)\n",
    "        ax.set_title(f\"{prefix} self-similarities ({dist_method})\")\n",
    "        img = ax.imshow(dists, cmap=CMAP)\n",
    "        plt.colorbar(img, ax=ax)\n",
    "\n",
    "    for dist_method, ax in zip(DistMethod, axs[1]):\n",
    "        dists = all_dist(\n",
    "            space1=F.normalize(space1, p=2, dim=-1),\n",
    "            space2=F.normalize(space2, p=2, dim=-1),\n",
    "            method=dist_method,\n",
    "        )\n",
    "        ax.set_title(f\"L2({prefix}) self-similarities ({dist_method})\")\n",
    "        img = ax.imshow(dists, cmap=CMAP)\n",
    "        plt.colorbar(img, ax=ax)\n",
    "\n",
    "    plt.close()\n",
    "\n",
    "    return fig"
   ]
  },
  {
   "cell_type": "code",
   "execution_count": null,
   "metadata": {},
   "outputs": [],
   "source": [
    "plot_pairwise_dist(space1=abs_space1, space2=abs_space2, prefix=\"Absolute\")"
   ]
  },
  {
   "cell_type": "code",
   "execution_count": null,
   "metadata": {},
   "outputs": [],
   "source": [
    "self_sim_comparison(space1=abs_space1, space2=abs_space2, normalize=True)"
   ]
  },
  {
   "cell_type": "code",
   "execution_count": null,
   "metadata": {},
   "outputs": [],
   "source": [
    "plot_self_dist(space1=abs_space1, space2=abs_space2, prefix=\"Absolute\")"
   ]
  },
  {
   "cell_type": "code",
   "execution_count": null,
   "metadata": {},
   "outputs": [],
   "source": [
    "num_anchors: int = abs_space1.size(1)\n",
    "\n",
    "seed_everything(42)\n",
    "anchor_idxs = list(range(abs_space1.size(0)))\n",
    "random.shuffle(anchor_idxs)\n",
    "anchor_idxs = anchor_idxs[:num_anchors]\n",
    "\n",
    "space1_anchors = norm_abs_space1[anchor_idxs, :]\n",
    "space2_anchors = norm_abs_space2[anchor_idxs, :]"
   ]
  },
  {
   "cell_type": "code",
   "execution_count": null,
   "metadata": {},
   "outputs": [],
   "source": [
    "rel_space1 = norm_abs_space1 @ space1_anchors.T\n",
    "rel_space2 = norm_abs_space2 @ space2_anchors.T"
   ]
  },
  {
   "cell_type": "code",
   "execution_count": null,
   "metadata": {},
   "outputs": [],
   "source": [
    "plot_pairwise_dist(space1=rel_space1, space2=rel_space2, prefix=\"Relative\")"
   ]
  },
  {
   "cell_type": "code",
   "execution_count": null,
   "metadata": {},
   "outputs": [],
   "source": [
    "self_sim_comparison(space1=rel_space1, space2=rel_space2, normalize=True)"
   ]
  },
  {
   "cell_type": "code",
   "execution_count": null,
   "metadata": {},
   "outputs": [],
   "source": [
    "plot_self_dist(space1=rel_space1, space2=rel_space2, prefix=\"Absolute\")"
   ]
  },
  {
   "cell_type": "code",
   "execution_count": null,
   "metadata": {},
   "outputs": [],
   "source": [
    "class Reduction(StrEnum):\n",
    "    INDEPENDENT_PCA = auto()\n",
    "    SHARED_PCA = auto()\n",
    "    TSNE = auto()\n",
    "    # UMAP = auto()\n",
    "    FIRST_DIMS = auto()"
   ]
  },
  {
   "cell_type": "code",
   "execution_count": null,
   "metadata": {},
   "outputs": [],
   "source": [
    "from sklearn.decomposition import PCA\n",
    "from sklearn.manifold import TSNE\n",
    "\n",
    "\n",
    "def reduce(\n",
    "    space1: torch.Tensor, space2: torch.Tensor, reduction: Reduction, seed: int = 42\n",
    "):\n",
    "    if reduction == Reduction.INDEPENDENT_PCA:\n",
    "        space1 = PCA(2, random_state=seed).fit_transform(space1)\n",
    "        space2 = PCA(2, random_state=seed).fit_transform(space2)\n",
    "    elif reduction == Reduction.SHARED_PCA:\n",
    "        pca = PCA(2, random_state=seed)\n",
    "        space1 = pca.fit_transform(space1)\n",
    "        space2 = pca.transform(space2)\n",
    "    elif reduction == Reduction.TSNE:\n",
    "        space1 = TSNE(\n",
    "            2, random_state=seed, learning_rate=\"auto\", init=\"pca\"\n",
    "        ).fit_transform(space1)\n",
    "        space2 = TSNE(\n",
    "            2, random_state=seed, learning_rate=\"auto\", init=\"pca\"\n",
    "        ).fit_transform(space2)\n",
    "    elif reduction == Reduction.FIRST_DIMS:\n",
    "        space1 = space1[:, [0, 1]]\n",
    "        space2 = space2[:, [0, 1]]\n",
    "    else:\n",
    "        raise NotImplementedError\n",
    "\n",
    "    return space1, space2"
   ]
  },
  {
   "cell_type": "code",
   "execution_count": null,
   "metadata": {},
   "outputs": [],
   "source": [
    "def plot_space_grid(\n",
    "    x_header: Sequence[str],\n",
    "    y_header: Sequence[str],\n",
    "    spaces: Sequence[Sequence[np.ndarray]],\n",
    "    c=None,\n",
    "    cmap=CMAP,\n",
    "):\n",
    "    \"\"\"Plots a grid of scatter plots using matplotlib.\n",
    "\n",
    "    Args:\n",
    "        x_header: A sequence of strings for the x-axis labels.\n",
    "        y_header: A sequence of strings for the y-axis labels.\n",
    "        spaces: A sequence of sequences of tensors containing the data to be plotted.\n",
    "        c: Optional. The colors of the plotted points.\n",
    "        cmap: The colormap to use for the plotted points.\n",
    "    Returns:\n",
    "        The figure object representing the complete plot.\n",
    "    \"\"\"\n",
    "    n_rows = len(spaces)\n",
    "    n_cols = len(spaces[0])\n",
    "\n",
    "    fig, axs = plt.subplots(\n",
    "        nrows=n_rows, ncols=n_cols, figsize=(n_cols * 5, n_rows * 5)\n",
    "    )\n",
    "\n",
    "    for x, row in zip(x_header, axs):\n",
    "        row[0].set_ylabel(x, rotation=90, size=\"xx-large\")\n",
    "\n",
    "    for y, col in zip(y_header, axs[0]):\n",
    "        col.set_title(y, size=\"xx-large\")\n",
    "\n",
    "    for i, j in itertools.product(range(n_rows), range(n_cols)):\n",
    "        space = spaces[i][j]\n",
    "        assert space.shape[1] == 2\n",
    "        axs[i, j].scatter(x=space[:, 0], y=space[:, 1], c=c, cmap=cmap)\n",
    "\n",
    "    plt.close()\n",
    "    return fig"
   ]
  },
  {
   "cell_type": "code",
   "execution_count": null,
   "metadata": {},
   "outputs": [],
   "source": [
    "x_header = [reduction.upper() for reduction in Reduction]\n",
    "y_header = [\n",
    "    \"Absolute Space 1\",\n",
    "    \"Absolute Space 2\",\n",
    "    \"Relative Space 1\",\n",
    "    \"Relative Space 2\",\n",
    "]\n",
    "\n",
    "spaces = [\n",
    "    [\n",
    "        *reduce(space1=abs_space1, space2=abs_space2, reduction=reduction),\n",
    "        *reduce(space1=rel_space1, space2=rel_space2, reduction=reduction),\n",
    "    ]\n",
    "    for reduction in Reduction\n",
    "]"
   ]
  },
  {
   "cell_type": "code",
   "execution_count": null,
   "metadata": {},
   "outputs": [],
   "source": [
    "plot_space_grid(x_header=x_header, y_header=y_header, spaces=spaces, c=labels)"
   ]
  },
  {
   "cell_type": "code",
   "execution_count": null,
   "metadata": {},
   "outputs": [],
   "source": []
  }
 ],
 "metadata": {
  "kernelspec": {
   "display_name": "relrl",
   "language": "python",
   "name": "python3"
  },
  "language_info": {
   "codemirror_mode": {
    "name": "ipython",
    "version": 3
   },
   "file_extension": ".py",
   "mimetype": "text/x-python",
   "name": "python",
   "nbconvert_exporter": "python",
   "pygments_lexer": "ipython3",
   "version": "2.7.undefined"
  },
  "vscode": {
   "interpreter": {
    "hash": "b1d319075487cf9eef8e726b781d11a50c8e8f89186bb62d23a9887ffd5c31ce"
   }
  }
 },
 "nbformat": 4,
 "nbformat_minor": 1
}
